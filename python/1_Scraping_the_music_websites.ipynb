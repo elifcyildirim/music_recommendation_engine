{
 "cells": [
  {
   "cell_type": "markdown",
   "id": "689e42d8",
   "metadata": {},
   "source": [
    "# Scraping top 200 songs from the web"
   ]
  },
  {
   "cell_type": "markdown",
   "id": "5cc6dec4",
   "metadata": {},
   "source": [
    "In this notebook, I scrape two different websites to achieve a dataframe of top 200 songs."
   ]
  },
  {
   "cell_type": "markdown",
   "id": "fd4aa498",
   "metadata": {},
   "source": [
    "## Scraping playback.fm"
   ]
  },
  {
   "cell_type": "code",
   "execution_count": 1,
   "id": "5fabea94",
   "metadata": {},
   "outputs": [],
   "source": [
    "from bs4 import BeautifulSoup\n",
    "import requests \n",
    "import pandas as pd"
   ]
  },
  {
   "cell_type": "code",
   "execution_count": 2,
   "id": "3742b28f",
   "metadata": {},
   "outputs": [],
   "source": [
    "url= 'https://playback.fm/charts/top-100-songs/2015'"
   ]
  },
  {
   "cell_type": "code",
   "execution_count": 3,
   "id": "bf456fce",
   "metadata": {},
   "outputs": [
    {
     "data": {
      "text/plain": [
       "200"
      ]
     },
     "execution_count": 3,
     "metadata": {},
     "output_type": "execute_result"
    }
   ],
   "source": [
    "response = requests.get(url) # download html with a get request\n",
    "response.status_code # 200 status code means OK!"
   ]
  },
  {
   "cell_type": "code",
   "execution_count": null,
   "id": "d5c98720",
   "metadata": {},
   "outputs": [],
   "source": [
    "response.content"
   ]
  },
  {
   "cell_type": "code",
   "execution_count": 5,
   "id": "51d770d6",
   "metadata": {},
   "outputs": [],
   "source": [
    "soup = BeautifulSoup(response.content, \"html.parser\") # parse html (create the 'soup')"
   ]
  },
  {
   "cell_type": "code",
   "execution_count": null,
   "id": "f648bc27",
   "metadata": {},
   "outputs": [],
   "source": [
    "soup # check that the html code looks like it should"
   ]
  },
  {
   "cell_type": "code",
   "execution_count": null,
   "id": "eae69c58",
   "metadata": {},
   "outputs": [],
   "source": [
    "soup.select(\"td.mobile-hide\")"
   ]
  },
  {
   "cell_type": "code",
   "execution_count": null,
   "id": "a80c99d6",
   "metadata": {},
   "outputs": [],
   "source": [
    "soup.select(\"td:nth-child(2) > a\")"
   ]
  },
  {
   "cell_type": "code",
   "execution_count": null,
   "id": "d8d1bf80",
   "metadata": {},
   "outputs": [],
   "source": [
    "print(soup.prettify())"
   ]
  },
  {
   "cell_type": "code",
   "execution_count": 10,
   "id": "98b4fc30",
   "metadata": {},
   "outputs": [
    {
     "data": {
      "text/plain": [
       "<a class=\"artist\" href=\"/artist/mark-ronson-top-songs\" itemprop=\"byArtist\">\n",
       "Mark Ronson featuring Bruno Mars\n",
       "</a>"
      ]
     },
     "execution_count": 10,
     "metadata": {},
     "output_type": "execute_result"
    }
   ],
   "source": [
    "soup.select(\"td:nth-child(2) > a\")[0]"
   ]
  },
  {
   "cell_type": "code",
   "execution_count": 11,
   "id": "b6607e15",
   "metadata": {},
   "outputs": [
    {
     "data": {
      "text/plain": [
       "'\\nMark Ronson featuring Bruno Mars\\n'"
      ]
     },
     "execution_count": 11,
     "metadata": {},
     "output_type": "execute_result"
    }
   ],
   "source": [
    "soup.select(\"td:nth-child(2) > a\")[0].get_text()"
   ]
  },
  {
   "cell_type": "code",
   "execution_count": 12,
   "id": "f6d57e67",
   "metadata": {},
   "outputs": [
    {
     "data": {
      "text/plain": [
       "'Uptown Funk'"
      ]
     },
     "execution_count": 12,
     "metadata": {},
     "output_type": "execute_result"
    }
   ],
   "source": [
    "soup.select(\"td.mobile-hide > a > span.song\")[0].get_text()"
   ]
  },
  {
   "cell_type": "code",
   "execution_count": 13,
   "id": "62c57680",
   "metadata": {},
   "outputs": [
    {
     "name": "stdout",
     "output_type": "stream",
     "text": [
      "['\\nMark Ronson featuring Bruno Mars\\n', '\\nEd Sheeran\\n', '\\nWiz Khalifa featuring Charlie Puth\\n', '\\nFetty Wap\\n', '\\nMaroon 5\\n', '\\nWalk the Moon\\n', '\\nTaylor Swift\\n', '\\nSilentó\\n', '\\nThe Weeknd\\n', '\\nThe Weeknd\\n', '\\nOMI\\n', '\\nThe Weeknd\\n', '\\nEllie Goulding\\n', '\\nHozier\\n', '\\nTaylor Swift featuring Kendrick Lamar\\n', '\\nMajor Lazer and DJ Snake featuring MØ\\n', '\\nJason Derulo\\n', '\\nTaylor Swift\\n', '\\nSkrillex and Diplo featuring Justin Bieber\\n', '\\nRachel Platten\\n', '\\nFetty Wap featuring Remy Boyz\\n', '\\nMeghan Trainor\\n', '\\nFifth Harmony featuring Kid Ink\\n', '\\nOmarion featuring Chris Brown and Jhené Aiko\\n', '\\nAndy Grammer\\n', '\\nSam Smith\\n', '\\nSelena Gomez featuring A$AP Rocky\\n', '\\nMeghan Trainor\\n', '\\nTaylor Swift\\n', '\\nDrake\\n', '\\nDavid Guetta featuring Nicki Minaj, Bebe Rexha, and Afrojack\\n', '\\nFlo Rida featuring Sage the Gemini and Lookas\\n', '\\nJustin Bieber\\n', '\\nEd Sheeran\\n', '\\nAdele\\n', '\\nShawn Mendes\\n', '\\nTove Lo\\n', '\\nNick Jonas\\n', '\\nPitbull and Ne-Yo\\n', '\\nR. City featuring Adam Levine\\n', '\\nNatalie La Rose featuring Jeremih\\n', '\\nRihanna, Kanye West, and Paul McCartney\\n', '\\nFall Out Boy\\n', '\\nFetty Wap featuring Monty\\n', '\\nSam Hunt\\n', '\\nMaroon 5\\n', '\\nBig Sean featuring E-40\\n', '\\nRihanna\\n', '\\nRich Homie Quan\\n', '\\nT-Wayne\\n', '\\nNicki Minaj featuring Drake, Lil Wayne, and Chris Brown\\n', '\\nSia\\n', '\\nDemi Lovato\\n', '\\nX Ambassadors\\n', '\\nUsher featuring Juicy J\\n', '\\nAriana Grande and The Weeknd\\n', '\\nTaylor Swift\\n', '\\nSam Smith\\n', '\\nDJ Snake and AlunaGeorge\\n', '\\nFall Out Boy\\n', '\\nBeyoncé\\n', '\\nSelena Gomez\\n', '\\nLittle Big Town\\n', '\\nTrey Songz\\n', '\\nOne Direction\\n', '\\nNicki Minaj featuring Drake and Lil Wayne\\n', '\\nAriana Grande\\n', '\\nNick Jonas\\n', '\\nMeek Mill featuring Chris Brown and Nicki Minaj\\n', '\\nRae Sremmurd\\n', '\\nVance Joy\\n', '\\nJidenna featuring Roman GianArthur\\n', '\\nElle King\\n', '\\nMeghan Trainor\\n', '\\nCharlie Puth featuring Meghan Trainor\\n', '\\nMeghan Trainor featuring John Legend\\n', '\\nTove Lo\\n', '\\nJames Newton Howard featuring Jennifer Lawrence\\n', '\\nO.T. Genasis\\n', '\\nJessie J, Ariana Grande, and Nicki Minaj\\n', '\\nSam Smith\\n', '\\nILoveMakonnen featuring Drake\\n', '\\niLoveMemphis\\n', '\\nMacklemore and Ryan Lewis featuring Eric Nally, Melle Mel, Kool Moe Dee, and Grandmaster Caz\\n', '\\nSam Hunt\\n', '\\nChris Brown and Tyga\\n', '\\nLuke Bryan\\n', '\\nBig Sean featuring Drake\\n', '\\nGeorge Ezra\\n', '\\nSia\\n', '\\nKelly Clarkson\\n', '\\nEd Sheeran\\n', '\\nElla Henderson\\n', '\\nAlessia Cara\\n', '\\nMr Probz\\n', '\\nNicky Jam and Enrique Iglesias\\n', '\\nNe-Yo featuring Juicy J\\n', '\\nOne Direction\\n', '\\nDrake\\n', '\\nCalvin Harris and Disciples\\n']\n",
      "['Uptown Funk', 'Thinking Out Loud', 'See You Again', 'Trap Queen', 'Sugar', 'Shut Up and Dance', 'Blank Space', 'Watch Me', 'Earned It', 'The Hills', 'Cheerleader', \"Can't Feel My Face\", 'Love Me Like You Do', 'Take Me to Church', 'Bad Blood', 'Lean On', 'Want to Want Me', 'Shake It Off', 'Where Are Ü Now', 'Fight Song', '679', 'Lips Are Movin', 'Worth It', 'Post to Be', \"Honey, I'm Good.\", \"I'm Not the Only One\", 'Good for You', 'All About That Bass', 'Style', 'Hotline Bling', 'Hey Mama', 'G.D.F.R.', 'What Do You Mean?', 'Photograph', 'Hello', 'Stitches', 'Talking Body', 'Jealous', 'Time of Our Lives', 'Locked Away', 'Somebody', 'FourFiveSeconds', 'Centuries', 'My Way', 'Take Your Time', 'Animals', \"I Don't Fuck with You\", 'Bi**h Better Have My Money', 'Flex (Ooh, Ooh, Ooh)', 'Nasty Freestyle', 'Only', 'Elastic Heart', 'Cool for the Summer', 'Renegades', \"I Don't Mind\", 'Love Me Harder', 'Wildest Dreams', 'Stay with Me', 'You Know You Like It', 'Uma Thurman', '7/11/2016', 'The Heart Wants What It Wants', 'Girl Crush', 'Slow Motion', 'Drag Me Down', 'Truffle Butter', 'One Last Time', 'Chains', 'All Eyes on You', 'No Type', 'Riptide', 'Classic Man', \"Ex's & Oh's\", 'Dear Future Husband', 'Marvin Gaye', \"Like I'm Gonna Lose You\", 'Habits (Stay High)', 'The Hanging Tree', 'CoCo', 'Bang Bang', 'Lay Me Down', 'Tuesday', 'Hit the Quan', 'Downtown', 'House Party', 'Ayo', 'Kick the Dust Up', 'Blessings', 'Budapest', 'Chandelier', 'Heartbeat Song', \"Don't\", 'Ghost', 'Here', 'Waves', 'El Perdón', 'She Knows', 'Night Changes', 'Back to Back', 'How Deep Is Your Love']\n"
     ]
    }
   ],
   "source": [
    "#initialize empty lists\n",
    "artist = []\n",
    "song = []\n",
    "\n",
    "num_iter = len(soup.select(\"td:nth-child(2) > a\"))\n",
    "\n",
    "tClist = soup.select(\"td:nth-child(2) > a\")\n",
    "spanlist = soup.select(\"td.mobile-hide > a > span.song\")\n",
    "\n",
    "for i in range(num_iter):\n",
    "    artist.append(tClist[i].get_text())\n",
    "    song.append(spanlist[i].get_text())\n",
    "\n",
    "print(artist)\n",
    "print(song)\n"
   ]
  },
  {
   "cell_type": "code",
   "execution_count": 14,
   "id": "ffc22cff",
   "metadata": {},
   "outputs": [],
   "source": [
    "# each list becomes a column\n",
    "\n",
    "artist_song_df= pd.DataFrame({\"artist\":artist,\"song\":song})"
   ]
  },
  {
   "cell_type": "code",
   "execution_count": 15,
   "id": "7786dd5a",
   "metadata": {},
   "outputs": [
    {
     "data": {
      "text/html": [
       "<div>\n",
       "<style scoped>\n",
       "    .dataframe tbody tr th:only-of-type {\n",
       "        vertical-align: middle;\n",
       "    }\n",
       "\n",
       "    .dataframe tbody tr th {\n",
       "        vertical-align: top;\n",
       "    }\n",
       "\n",
       "    .dataframe thead th {\n",
       "        text-align: right;\n",
       "    }\n",
       "</style>\n",
       "<table border=\"1\" class=\"dataframe\">\n",
       "  <thead>\n",
       "    <tr style=\"text-align: right;\">\n",
       "      <th></th>\n",
       "      <th>artist</th>\n",
       "      <th>song</th>\n",
       "    </tr>\n",
       "  </thead>\n",
       "  <tbody>\n",
       "    <tr>\n",
       "      <th>0</th>\n",
       "      <td>\\nMark Ronson featuring Bruno Mars\\n</td>\n",
       "      <td>Uptown Funk</td>\n",
       "    </tr>\n",
       "    <tr>\n",
       "      <th>1</th>\n",
       "      <td>\\nEd Sheeran\\n</td>\n",
       "      <td>Thinking Out Loud</td>\n",
       "    </tr>\n",
       "    <tr>\n",
       "      <th>2</th>\n",
       "      <td>\\nWiz Khalifa featuring Charlie Puth\\n</td>\n",
       "      <td>See You Again</td>\n",
       "    </tr>\n",
       "    <tr>\n",
       "      <th>3</th>\n",
       "      <td>\\nFetty Wap\\n</td>\n",
       "      <td>Trap Queen</td>\n",
       "    </tr>\n",
       "    <tr>\n",
       "      <th>4</th>\n",
       "      <td>\\nMaroon 5\\n</td>\n",
       "      <td>Sugar</td>\n",
       "    </tr>\n",
       "  </tbody>\n",
       "</table>\n",
       "</div>"
      ],
      "text/plain": [
       "                                   artist               song\n",
       "0    \\nMark Ronson featuring Bruno Mars\\n        Uptown Funk\n",
       "1                          \\nEd Sheeran\\n  Thinking Out Loud\n",
       "2  \\nWiz Khalifa featuring Charlie Puth\\n      See You Again\n",
       "3                           \\nFetty Wap\\n         Trap Queen\n",
       "4                            \\nMaroon 5\\n              Sugar"
      ]
     },
     "execution_count": 15,
     "metadata": {},
     "output_type": "execute_result"
    }
   ],
   "source": [
    "artist_song_df.head()"
   ]
  },
  {
   "cell_type": "code",
   "execution_count": 16,
   "id": "1aa9041b",
   "metadata": {},
   "outputs": [],
   "source": [
    "artist_song_df['artist'] = artist_song_df['artist'].str.replace('\\n', ' ')\n"
   ]
  },
  {
   "cell_type": "code",
   "execution_count": 17,
   "id": "6d70d387",
   "metadata": {},
   "outputs": [
    {
     "data": {
      "text/html": [
       "<div>\n",
       "<style scoped>\n",
       "    .dataframe tbody tr th:only-of-type {\n",
       "        vertical-align: middle;\n",
       "    }\n",
       "\n",
       "    .dataframe tbody tr th {\n",
       "        vertical-align: top;\n",
       "    }\n",
       "\n",
       "    .dataframe thead th {\n",
       "        text-align: right;\n",
       "    }\n",
       "</style>\n",
       "<table border=\"1\" class=\"dataframe\">\n",
       "  <thead>\n",
       "    <tr style=\"text-align: right;\">\n",
       "      <th></th>\n",
       "      <th>artist</th>\n",
       "      <th>song</th>\n",
       "    </tr>\n",
       "  </thead>\n",
       "  <tbody>\n",
       "    <tr>\n",
       "      <th>0</th>\n",
       "      <td>Mark Ronson featuring Bruno Mars</td>\n",
       "      <td>Uptown Funk</td>\n",
       "    </tr>\n",
       "    <tr>\n",
       "      <th>1</th>\n",
       "      <td>Ed Sheeran</td>\n",
       "      <td>Thinking Out Loud</td>\n",
       "    </tr>\n",
       "    <tr>\n",
       "      <th>2</th>\n",
       "      <td>Wiz Khalifa featuring Charlie Puth</td>\n",
       "      <td>See You Again</td>\n",
       "    </tr>\n",
       "    <tr>\n",
       "      <th>3</th>\n",
       "      <td>Fetty Wap</td>\n",
       "      <td>Trap Queen</td>\n",
       "    </tr>\n",
       "    <tr>\n",
       "      <th>4</th>\n",
       "      <td>Maroon 5</td>\n",
       "      <td>Sugar</td>\n",
       "    </tr>\n",
       "  </tbody>\n",
       "</table>\n",
       "</div>"
      ],
      "text/plain": [
       "                                 artist               song\n",
       "0     Mark Ronson featuring Bruno Mars         Uptown Funk\n",
       "1                           Ed Sheeran   Thinking Out Loud\n",
       "2   Wiz Khalifa featuring Charlie Puth       See You Again\n",
       "3                            Fetty Wap          Trap Queen\n",
       "4                             Maroon 5               Sugar"
      ]
     },
     "execution_count": 17,
     "metadata": {},
     "output_type": "execute_result"
    }
   ],
   "source": [
    "artist_song_df.head()"
   ]
  },
  {
   "cell_type": "markdown",
   "id": "afe67012",
   "metadata": {},
   "source": [
    "## Scraping popvortex.com"
   ]
  },
  {
   "cell_type": "code",
   "execution_count": 18,
   "id": "22bd3569",
   "metadata": {},
   "outputs": [],
   "source": [
    "url= 'https://www.popvortex.com/music/charts/top-100-songs.php'"
   ]
  },
  {
   "cell_type": "code",
   "execution_count": 19,
   "id": "acd2be68",
   "metadata": {},
   "outputs": [
    {
     "data": {
      "text/plain": [
       "200"
      ]
     },
     "execution_count": 19,
     "metadata": {},
     "output_type": "execute_result"
    }
   ],
   "source": [
    "response = requests.get(url)\n",
    "response.status_code # 200 status code means OK!"
   ]
  },
  {
   "cell_type": "code",
   "execution_count": 20,
   "id": "4cfd9ad0",
   "metadata": {},
   "outputs": [],
   "source": [
    "#response.content"
   ]
  },
  {
   "cell_type": "code",
   "execution_count": 21,
   "id": "9d60d6df",
   "metadata": {},
   "outputs": [],
   "source": [
    "soup = BeautifulSoup(response.content, \"html.parser\") # parse html (create the 'soup')"
   ]
  },
  {
   "cell_type": "code",
   "execution_count": null,
   "id": "78f67057",
   "metadata": {},
   "outputs": [],
   "source": [
    "soup # check that the html code looks like it should"
   ]
  },
  {
   "cell_type": "code",
   "execution_count": null,
   "id": "e01c7146",
   "metadata": {},
   "outputs": [],
   "source": [
    "print(soup.prettify())"
   ]
  },
  {
   "cell_type": "code",
   "execution_count": 24,
   "id": "3f29f840",
   "metadata": {},
   "outputs": [
    {
     "data": {
      "text/plain": [
       "'Unholy'"
      ]
     },
     "execution_count": 24,
     "metadata": {},
     "output_type": "execute_result"
    }
   ],
   "source": [
    "soup.select(\"div.chart-content.col-xs-12.col-sm-8 > p > cite\")[0].get_text()"
   ]
  },
  {
   "cell_type": "code",
   "execution_count": 25,
   "id": "d89df64d",
   "metadata": {},
   "outputs": [
    {
     "data": {
      "text/plain": [
       "'Sam Smith & Kim Petras'"
      ]
     },
     "execution_count": 25,
     "metadata": {},
     "output_type": "execute_result"
    }
   ],
   "source": [
    "soup.select(\"div.chart-content.col-xs-12.col-sm-8 > p > em\")[0].get_text()"
   ]
  },
  {
   "cell_type": "code",
   "execution_count": 26,
   "id": "e71be92d",
   "metadata": {},
   "outputs": [
    {
     "name": "stdout",
     "output_type": "stream",
     "text": [
      "['Sam Smith & Kim Petras', 'Taylor Swift', 'Taylor Swift', 'Rihanna', 'Meghan Trainor', 'Timcast', 'Brett Young', 'Fleetwood Mac', 'David Guetta & Bebe Rexha', 'Tom MacDonald', 'Kane Brown & Katelyn Brown', 'HARDY & Lainey Wilson', 'Sia', 'OneRepublic', 'Jelly Roll', 'Beyoncé', 'Zach Bryan', 'P!nk', 'Coldplay', 'Louis Armstrong', 'Morgan Wallen', 'Drake & 21 Savage', 'Bailey Zimmerman', 'Morgan Wallen', 'Chris Brown', 'Lainey Wilson', 'Selena Gomez', 'Cole Swindell & Jo Dee Messina', 'Harry Styles', 'R.E.M.', 'Ed Sheeran', 'Post Malone, Mark Morrison & Sickick', 'Steve Lacy', 'Cole Swindell', 'Luke Combs', 'R.E.M.', 'CeCe Winans', 'Bobby McFerrin', 'Lee Brice', 'Ed Sheeran', 'Drake & 21 Savage', 'Elton John & Britney Spears', 'Mariah Carey', 'Quavo & Takeoff', 'Bruno Mars', 'Jordan Davis', 'JVKE', 'Bailey Zimmerman', 'Post Malone', 'Jax', 'Jordan Davis', 'Nicky Youre & Dazy', 'Colton Dixon', 'Lil Nas X', 'Luke Bryan', 'Nicki Minaj', 'Imagine Dragons', 'Taylor Swift', 'Dean Lewis', 'Bad Omens', 'TALK', 'Chris Stapleton', 'David Guetta & Bebe Rexha', 'Drake & 21 Savage', 'Morgan Wallen', 'Rachael Lampa', 'Snow Patrol', 'JIN', 'Zach Bryan', 'Bad Bunny', 'Doja Cat', 'Thomas Rhett', 'Megan Moroney', 'Beyoncé', 'Tyler Childers', 'Chris Stapleton', 'Nate Smith', 'Marshmello & Khalid', 'Lizzo', 'Bailey Zimmerman', 'Taylor Swift', 'Taylor Swift', 'Tevin Campbell', 'Tyler Childers', 'SZA', 'Nickelback', 'Katy Nichole & Big Daddy Weave', 'Dax', 'Earth, Wind & Fire', 'Carly Pearce', 'Elton John & Dua Lipa', 'Ella Fitzgerald & Louis Armstrong', 'Cody Johnson', 'Lady Gaga', 'Jackson Dean', 'George Strait', 'Quavo & Takeoff', 'Lizzo', 'Nate Smith', 'Nina Simone']\n",
      "['Unholy', 'Anti-Hero (feat. Bleachers)', 'Anti-Hero', 'Lift Me Up (From Black Panther: Wakanda Forever - Music From and Inspired By)', 'Made You Look', 'Genocide (Losing My Mind)', 'Mercy', 'Everywhere', \"I'm Good (Blue)\", 'Fighter', 'Thank God', 'wait in the truck', 'Unstoppable', \"I Ain't Worried\", 'Son Of A Sinner', 'CUFF IT', \"Something in the Orange (Z&E's Version)\", 'Never Gonna Not Dance Again', 'Yellow', 'What a Wonderful World', 'You Proof', 'Rich Flex', 'Fall In Love', 'Wasted On You', 'Under the Influence', 'Heart Like A Truck', 'My Mind & Me', 'She Had Me At Heads Carolina (Remix)', 'As It Was', 'Everybody Hurts', 'Shivers', 'Cooped Up / Return Of The Mack', 'Bad Habit', 'She Had Me At Heads Carolina', 'The Kind of Love We Make', 'Losing My Religion', 'Goodness of God (Live)', \"Don't Worry, Be Happy\", 'Soul', 'Celestial', 'Circo Loco', 'Hold Me Closer', 'All I Want For Christmas Is You', 'HOTEL LOBBY (Unc & Phew)', 'It Will Rain', 'Next Thing You Know', 'golden hour', 'Rock and a Hard Place', 'I Like You (A Happier Song) [feat. Doja Cat]', 'Victoria’s Secret', 'What My World Spins Around', 'Sunroof', 'Build a Boat', \"STAR WALKIN' (League of Legends Worlds Anthem)\", \"Prayin' In A Deer Stand\", 'Super Freaky Girl', 'Bones', 'Bigger Than The Whole Sky', 'How Do I Say Goodbye', 'Just Pretend', 'Run Away to Mars', 'Tennessee Whiskey', \"I'm Good (Blue)\", 'On BS', 'Thought You Should Know', 'Perfectly Loved (feat. TobyMac)', 'Chasing Cars', 'The Astronaut', 'Something in the Orange', 'Tití Me Preguntó', 'Vegas (From the Original Motion Picture Soundtrack ELVIS)', 'Half Of Me (feat. Riley Green)', 'Tennessee Orange', 'CUFF IT', 'Way of the Triune God (Hallelujah Version)', 'Joy of My Life', 'Whiskey On You', 'Numb', 'About Damn Time', 'Never Leave', 'Bejeweled', 'Bejeweled', 'Can We Talk', \"All Your'n\", 'Shirt', 'She Keeps Me Up', 'God Is In This Story', 'JOKER', 'September', \"What He Didn't Do\", 'Cold Heart (PNAU Remix)', 'Dream a Little Dream of Me (Single Version)', \"'Til You Can't\", 'Hold My Hand', 'Don’t Come Lookin’', 'You Look So Good In Love', 'Messy', '2 Be Loved (Am I Ready)', 'I Found You', 'Feeling Good (From \"the Roar of the Greasepaint\")']\n"
     ]
    }
   ],
   "source": [
    "#initialize empty lists\n",
    "artist = []\n",
    "song = []\n",
    "\n",
    "\n",
    "num_iter = len(soup.select(\"div.chart-content.col-xs-12.col-sm-8 > p > cite\"))\n",
    "\n",
    "song_list = soup.select(\"div.chart-content.col-xs-12.col-sm-8 > p > cite\")\n",
    "artist_list = soup.select(\"div.chart-content.col-xs-12.col-sm-8 > p > em\")\n",
    "\n",
    "for i in range(num_iter):\n",
    "    artist.append(artist_list[i].get_text())\n",
    "    song.append(song_list[i].get_text())\n",
    "\n",
    "print(artist)\n",
    "print(song)\n"
   ]
  },
  {
   "cell_type": "code",
   "execution_count": 27,
   "id": "4ffff7bc",
   "metadata": {},
   "outputs": [],
   "source": [
    "# each list becomes a column\n",
    "\n",
    "artist_song_df_2= pd.DataFrame({\"artist\":artist,\"song\":song})"
   ]
  },
  {
   "cell_type": "code",
   "execution_count": 28,
   "id": "bc0ee62c",
   "metadata": {},
   "outputs": [
    {
     "data": {
      "text/html": [
       "<div>\n",
       "<style scoped>\n",
       "    .dataframe tbody tr th:only-of-type {\n",
       "        vertical-align: middle;\n",
       "    }\n",
       "\n",
       "    .dataframe tbody tr th {\n",
       "        vertical-align: top;\n",
       "    }\n",
       "\n",
       "    .dataframe thead th {\n",
       "        text-align: right;\n",
       "    }\n",
       "</style>\n",
       "<table border=\"1\" class=\"dataframe\">\n",
       "  <thead>\n",
       "    <tr style=\"text-align: right;\">\n",
       "      <th></th>\n",
       "      <th>artist</th>\n",
       "      <th>song</th>\n",
       "    </tr>\n",
       "  </thead>\n",
       "  <tbody>\n",
       "    <tr>\n",
       "      <th>0</th>\n",
       "      <td>Sam Smith &amp; Kim Petras</td>\n",
       "      <td>Unholy</td>\n",
       "    </tr>\n",
       "    <tr>\n",
       "      <th>1</th>\n",
       "      <td>Taylor Swift</td>\n",
       "      <td>Anti-Hero (feat. Bleachers)</td>\n",
       "    </tr>\n",
       "    <tr>\n",
       "      <th>2</th>\n",
       "      <td>Taylor Swift</td>\n",
       "      <td>Anti-Hero</td>\n",
       "    </tr>\n",
       "    <tr>\n",
       "      <th>3</th>\n",
       "      <td>Rihanna</td>\n",
       "      <td>Lift Me Up (From Black Panther: Wakanda Foreve...</td>\n",
       "    </tr>\n",
       "    <tr>\n",
       "      <th>4</th>\n",
       "      <td>Meghan Trainor</td>\n",
       "      <td>Made You Look</td>\n",
       "    </tr>\n",
       "  </tbody>\n",
       "</table>\n",
       "</div>"
      ],
      "text/plain": [
       "                   artist                                               song\n",
       "0  Sam Smith & Kim Petras                                             Unholy\n",
       "1            Taylor Swift                        Anti-Hero (feat. Bleachers)\n",
       "2            Taylor Swift                                          Anti-Hero\n",
       "3                 Rihanna  Lift Me Up (From Black Panther: Wakanda Foreve...\n",
       "4          Meghan Trainor                                      Made You Look"
      ]
     },
     "execution_count": 28,
     "metadata": {},
     "output_type": "execute_result"
    }
   ],
   "source": [
    "artist_song_df_2.head()"
   ]
  },
  {
   "cell_type": "code",
   "execution_count": 29,
   "id": "c9df5579",
   "metadata": {},
   "outputs": [],
   "source": [
    "# concatenate the two dataframes\n",
    "\n",
    "music_df = pd.concat([artist_song_df, artist_song_df_2], axis=0)\n",
    "music_df=music_df.reset_index(drop=True)"
   ]
  },
  {
   "cell_type": "code",
   "execution_count": 30,
   "id": "f1eb920e",
   "metadata": {},
   "outputs": [
    {
     "data": {
      "text/html": [
       "<div>\n",
       "<style scoped>\n",
       "    .dataframe tbody tr th:only-of-type {\n",
       "        vertical-align: middle;\n",
       "    }\n",
       "\n",
       "    .dataframe tbody tr th {\n",
       "        vertical-align: top;\n",
       "    }\n",
       "\n",
       "    .dataframe thead th {\n",
       "        text-align: right;\n",
       "    }\n",
       "</style>\n",
       "<table border=\"1\" class=\"dataframe\">\n",
       "  <thead>\n",
       "    <tr style=\"text-align: right;\">\n",
       "      <th></th>\n",
       "      <th>artist</th>\n",
       "      <th>song</th>\n",
       "    </tr>\n",
       "  </thead>\n",
       "  <tbody>\n",
       "    <tr>\n",
       "      <th>0</th>\n",
       "      <td>Mark Ronson featuring Bruno Mars</td>\n",
       "      <td>Uptown Funk</td>\n",
       "    </tr>\n",
       "    <tr>\n",
       "      <th>1</th>\n",
       "      <td>Ed Sheeran</td>\n",
       "      <td>Thinking Out Loud</td>\n",
       "    </tr>\n",
       "    <tr>\n",
       "      <th>2</th>\n",
       "      <td>Wiz Khalifa featuring Charlie Puth</td>\n",
       "      <td>See You Again</td>\n",
       "    </tr>\n",
       "    <tr>\n",
       "      <th>3</th>\n",
       "      <td>Fetty Wap</td>\n",
       "      <td>Trap Queen</td>\n",
       "    </tr>\n",
       "    <tr>\n",
       "      <th>4</th>\n",
       "      <td>Maroon 5</td>\n",
       "      <td>Sugar</td>\n",
       "    </tr>\n",
       "  </tbody>\n",
       "</table>\n",
       "</div>"
      ],
      "text/plain": [
       "                                 artist               song\n",
       "0     Mark Ronson featuring Bruno Mars         Uptown Funk\n",
       "1                           Ed Sheeran   Thinking Out Loud\n",
       "2   Wiz Khalifa featuring Charlie Puth       See You Again\n",
       "3                            Fetty Wap          Trap Queen\n",
       "4                             Maroon 5               Sugar"
      ]
     },
     "execution_count": 30,
     "metadata": {},
     "output_type": "execute_result"
    }
   ],
   "source": [
    "music_df.head()"
   ]
  },
  {
   "cell_type": "code",
   "execution_count": 31,
   "id": "9ad6422d",
   "metadata": {},
   "outputs": [
    {
     "data": {
      "text/plain": [
       "(200, 2)"
      ]
     },
     "execution_count": 31,
     "metadata": {},
     "output_type": "execute_result"
    }
   ],
   "source": [
    "music_df.shape"
   ]
  },
  {
   "cell_type": "code",
   "execution_count": 32,
   "id": "ab32c1f2",
   "metadata": {},
   "outputs": [
    {
     "data": {
      "text/plain": [
       "Index(['artist', 'song'], dtype='object')"
      ]
     },
     "execution_count": 32,
     "metadata": {},
     "output_type": "execute_result"
    }
   ],
   "source": [
    "music_df.columns"
   ]
  },
  {
   "cell_type": "code",
   "execution_count": 33,
   "id": "f16ed67d",
   "metadata": {},
   "outputs": [],
   "source": [
    "music_df.to_csv('music_df.csv')"
   ]
  },
  {
   "cell_type": "code",
   "execution_count": null,
   "id": "714d6e11",
   "metadata": {},
   "outputs": [],
   "source": []
  }
 ],
 "metadata": {
  "kernelspec": {
   "display_name": "Python 3 (ipykernel)",
   "language": "python",
   "name": "python3"
  },
  "language_info": {
   "codemirror_mode": {
    "name": "ipython",
    "version": 3
   },
   "file_extension": ".py",
   "mimetype": "text/x-python",
   "name": "python",
   "nbconvert_exporter": "python",
   "pygments_lexer": "ipython3",
   "version": "3.9.12"
  },
  "toc": {
   "base_numbering": 1,
   "nav_menu": {},
   "number_sections": true,
   "sideBar": true,
   "skip_h1_title": false,
   "title_cell": "Table of Contents",
   "title_sidebar": "Contents",
   "toc_cell": false,
   "toc_position": {
    "height": "calc(100% - 180px)",
    "left": "10px",
    "top": "150px",
    "width": "273.188px"
   },
   "toc_section_display": true,
   "toc_window_display": true
  }
 },
 "nbformat": 4,
 "nbformat_minor": 5
}
