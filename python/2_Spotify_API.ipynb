{
 "cells": [
  {
   "cell_type": "markdown",
   "id": "887d3a75",
   "metadata": {},
   "source": [
    "# Spotify API"
   ]
  },
  {
   "cell_type": "markdown",
   "id": "e472e612",
   "metadata": {},
   "source": [
    "In this notebook, I use the spotify API to scrape data from multiple spotify playlists. By doing this, I will create a dataframe of more than thousands of songs."
   ]
  },
  {
   "cell_type": "code",
   "execution_count": 1,
   "id": "6230b441",
   "metadata": {},
   "outputs": [],
   "source": [
    "import pandas as pd\n",
    "import numpy as np"
   ]
  },
  {
   "cell_type": "markdown",
   "id": "ff189d68",
   "metadata": {},
   "source": [
    "## Import sp and authenticate with the secret"
   ]
  },
  {
   "cell_type": "code",
   "execution_count": 188,
   "id": "f51f7b75",
   "metadata": {},
   "outputs": [],
   "source": [
    "import spotipy\n",
    "from spotipy.oauth2 import SpotifyClientCredentials #this line will enable me to authenticate myself\n"
   ]
  },
  {
   "cell_type": "code",
   "execution_count": 189,
   "id": "c144eafc",
   "metadata": {},
   "outputs": [],
   "source": [
    "secrets_file = open(\"secrets.txt\",\"r\")"
   ]
  },
  {
   "cell_type": "code",
   "execution_count": null,
   "id": "9589016c",
   "metadata": {},
   "outputs": [],
   "source": [
    "string = secrets_file.read()\n",
    "\n",
    "string"
   ]
  },
  {
   "cell_type": "code",
   "execution_count": null,
   "id": "4111068d",
   "metadata": {},
   "outputs": [],
   "source": [
    "string.split('\\n')\n"
   ]
  },
  {
   "cell_type": "code",
   "execution_count": null,
   "id": "f04c30c2",
   "metadata": {},
   "outputs": [],
   "source": [
    "secrets_dict={}\n",
    "for line in string.split('\\n'):\n",
    "    if len(line) > 0:\n",
    "        secrets_dict[line.split(':')[0]]=line.split(':')[1].strip() # strip is if there was a space in the passcode.\n",
    "\n",
    "secrets_dict"
   ]
  },
  {
   "cell_type": "markdown",
   "id": "dc5a8e63",
   "metadata": {},
   "source": [
    "## Authentication"
   ]
  },
  {
   "cell_type": "code",
   "execution_count": 193,
   "id": "70b0c91e",
   "metadata": {},
   "outputs": [],
   "source": [
    "import spotipy #wrapper\n",
    "from spotipy.oauth2 import SpotifyClientCredentials\n",
    "\n",
    "#Initialize SpotiPy with user credentials\n",
    "sp = spotipy.Spotify(auth_manager=SpotifyClientCredentials(client_id=secrets_dict['cid'],\n",
    "                                                           client_secret=secrets_dict['csecret']))"
   ]
  },
  {
   "cell_type": "markdown",
   "id": "ce2a9be9",
   "metadata": {},
   "source": [
    "## Exploring (and the dataframe will be created in the next section)"
   ]
  },
  {
   "cell_type": "markdown",
   "id": "3b2dde59",
   "metadata": {},
   "source": [
    "### Playlists"
   ]
  },
  {
   "cell_type": "code",
   "execution_count": 45,
   "id": "6d76b12a",
   "metadata": {},
   "outputs": [],
   "source": [
    "playlist = sp.user_playlist_tracks(\"spotify\", \"36f5MuoelMRwVIet1HUqYC\") #default limit in playlists is 100\n"
   ]
  },
  {
   "cell_type": "code",
   "execution_count": null,
   "id": "9a1ab6ca",
   "metadata": {},
   "outputs": [],
   "source": [
    "playlist"
   ]
  },
  {
   "cell_type": "code",
   "execution_count": 47,
   "id": "c79401e4",
   "metadata": {},
   "outputs": [
    {
     "data": {
      "text/plain": [
       "dict_keys(['href', 'items', 'limit', 'next', 'offset', 'previous', 'total'])"
      ]
     },
     "execution_count": 47,
     "metadata": {},
     "output_type": "execute_result"
    }
   ],
   "source": [
    "playlist.keys() "
   ]
  },
  {
   "cell_type": "code",
   "execution_count": 48,
   "id": "a6c727ce",
   "metadata": {},
   "outputs": [
    {
     "data": {
      "text/plain": [
       "dict_keys(['added_at', 'added_by', 'is_local', 'primary_color', 'track', 'video_thumbnail'])"
      ]
     },
     "execution_count": 48,
     "metadata": {},
     "output_type": "execute_result"
    }
   ],
   "source": [
    "playlist[\"items\"][0].keys()"
   ]
  },
  {
   "cell_type": "code",
   "execution_count": null,
   "id": "13676afb",
   "metadata": {},
   "outputs": [],
   "source": [
    "playlist[\"items\"][0][\"track\"]"
   ]
  },
  {
   "cell_type": "code",
   "execution_count": 50,
   "id": "81c9ee6f",
   "metadata": {},
   "outputs": [
    {
     "data": {
      "text/plain": [
       "'Imagine - Remastered 2010'"
      ]
     },
     "execution_count": 50,
     "metadata": {},
     "output_type": "execute_result"
    }
   ],
   "source": [
    "playlist[\"items\"][0][\"track\"][\"name\"]"
   ]
  },
  {
   "cell_type": "code",
   "execution_count": 51,
   "id": "a179aadc",
   "metadata": {},
   "outputs": [
    {
     "data": {
      "text/plain": [
       "502"
      ]
     },
     "execution_count": 51,
     "metadata": {},
     "output_type": "execute_result"
    }
   ],
   "source": [
    "playlist[\"total\"] "
   ]
  },
  {
   "cell_type": "code",
   "execution_count": 52,
   "id": "100ba7e8",
   "metadata": {},
   "outputs": [
    {
     "data": {
      "text/plain": [
       "100"
      ]
     },
     "execution_count": 52,
     "metadata": {},
     "output_type": "execute_result"
    }
   ],
   "source": [
    "len(playlist[\"items\"])"
   ]
  },
  {
   "cell_type": "code",
   "execution_count": 53,
   "id": "52642a98",
   "metadata": {},
   "outputs": [],
   "source": [
    "from random import randint\n",
    "from time import sleep\n",
    "\n",
    "def get_playlist_tracks(playlist_id):\n",
    "    results = sp.user_playlist_tracks(\"spotify\",playlist_id)\n",
    "    tracks = results['items']\n",
    "    while results['next']!=None:\n",
    "        results = sp.next(results)\n",
    "        tracks = tracks + results['items']\n",
    "        sleep(randint(1,3)) # 1, 2, or 3 seconds\n",
    "    return tracks"
   ]
  },
  {
   "cell_type": "code",
   "execution_count": 54,
   "id": "498d92aa",
   "metadata": {},
   "outputs": [
    {
     "data": {
      "text/plain": [
       "502"
      ]
     },
     "execution_count": 54,
     "metadata": {},
     "output_type": "execute_result"
    }
   ],
   "source": [
    "all_tracks = get_playlist_tracks(\"36f5MuoelMRwVIet1HUqYC\")\n",
    "len(all_tracks)"
   ]
  },
  {
   "cell_type": "code",
   "execution_count": null,
   "id": "3a931173",
   "metadata": {},
   "outputs": [],
   "source": [
    "all_tracks"
   ]
  },
  {
   "cell_type": "code",
   "execution_count": 56,
   "id": "0d6cefb9",
   "metadata": {},
   "outputs": [
    {
     "data": {
      "text/plain": [
       "'Nick Drake'"
      ]
     },
     "execution_count": 56,
     "metadata": {},
     "output_type": "execute_result"
    }
   ],
   "source": [
    "all_tracks[501]['track']['album']['artists'][0]['name'] # artist names"
   ]
  },
  {
   "cell_type": "code",
   "execution_count": 57,
   "id": "158b7727",
   "metadata": {},
   "outputs": [
    {
     "data": {
      "text/plain": [
       "'The Show Must Go On - Remastered 2011'"
      ]
     },
     "execution_count": 57,
     "metadata": {},
     "output_type": "execute_result"
    }
   ],
   "source": [
    "all_tracks[10]['track']['name']#.keys()#['album']['name'] # song names"
   ]
  },
  {
   "cell_type": "code",
   "execution_count": null,
   "id": "6c64530c",
   "metadata": {},
   "outputs": [],
   "source": [
    "all_tracks # is a list of dictionaries!"
   ]
  },
  {
   "cell_type": "code",
   "execution_count": null,
   "id": "affee46f",
   "metadata": {},
   "outputs": [],
   "source": []
  },
  {
   "cell_type": "markdown",
   "id": "4c03d40a",
   "metadata": {},
   "source": [
    "### Audio Features"
   ]
  },
  {
   "cell_type": "code",
   "execution_count": 59,
   "id": "d3bae13c",
   "metadata": {},
   "outputs": [
    {
     "data": {
      "text/plain": [
       "dict_keys(['added_at', 'added_by', 'is_local', 'primary_color', 'track', 'video_thumbnail'])"
      ]
     },
     "execution_count": 59,
     "metadata": {},
     "output_type": "execute_result"
    }
   ],
   "source": [
    "all_tracks[0].keys()"
   ]
  },
  {
   "cell_type": "code",
   "execution_count": 60,
   "id": "a222c94c",
   "metadata": {},
   "outputs": [
    {
     "data": {
      "text/plain": [
       "'spotify:track:6JFlwCkZGXj62ObbD9zDeX'"
      ]
     },
     "execution_count": 60,
     "metadata": {},
     "output_type": "execute_result"
    }
   ],
   "source": [
    "all_tracks[501]['track']['uri']"
   ]
  },
  {
   "cell_type": "code",
   "execution_count": 61,
   "id": "0df8561f",
   "metadata": {},
   "outputs": [],
   "source": [
    "song_uri= all_tracks[500]['track']['uri']"
   ]
  },
  {
   "cell_type": "code",
   "execution_count": 62,
   "id": "32f11412",
   "metadata": {},
   "outputs": [],
   "source": [
    "features=sp.audio_features(song_uri)"
   ]
  },
  {
   "cell_type": "code",
   "execution_count": 63,
   "id": "98b80d93",
   "metadata": {},
   "outputs": [
    {
     "data": {
      "text/plain": [
       "{'danceability': 0.186,\n",
       " 'energy': 0.158,\n",
       " 'key': 2,\n",
       " 'loudness': -18.775,\n",
       " 'mode': 0,\n",
       " 'speechiness': 0.0316,\n",
       " 'acousticness': 0.84,\n",
       " 'instrumentalness': 0.595,\n",
       " 'liveness': 0.0708,\n",
       " 'valence': 0.0652,\n",
       " 'tempo': 86.651,\n",
       " 'type': 'audio_features',\n",
       " 'id': '6p2AmqmBpr2EPgohLqIS7A',\n",
       " 'uri': 'spotify:track:6p2AmqmBpr2EPgohLqIS7A',\n",
       " 'track_href': 'https://api.spotify.com/v1/tracks/6p2AmqmBpr2EPgohLqIS7A',\n",
       " 'analysis_url': 'https://api.spotify.com/v1/audio-analysis/6p2AmqmBpr2EPgohLqIS7A',\n",
       " 'duration_ms': 618640,\n",
       " 'time_signature': 3}"
      ]
     },
     "execution_count": 63,
     "metadata": {},
     "output_type": "execute_result"
    }
   ],
   "source": [
    "features[0]"
   ]
  },
  {
   "cell_type": "code",
   "execution_count": 64,
   "id": "817b815c",
   "metadata": {},
   "outputs": [
    {
     "data": {
      "text/plain": [
       "'spotify:track:7pKfPomDEeI4TPT6EOYjn9'"
      ]
     },
     "execution_count": 64,
     "metadata": {},
     "output_type": "execute_result"
    }
   ],
   "source": [
    "playlist['items'][0]['track']['uri']"
   ]
  },
  {
   "cell_type": "markdown",
   "id": "cbb3546a",
   "metadata": {},
   "source": [
    "## Creating a df with artist song and audio features columns"
   ]
  },
  {
   "cell_type": "markdown",
   "id": "dec45df0",
   "metadata": {},
   "source": [
    "### First playlist"
   ]
  },
  {
   "cell_type": "code",
   "execution_count": 65,
   "id": "f58420c9",
   "metadata": {},
   "outputs": [],
   "source": [
    "from random import randint\n",
    "from time import sleep\n",
    "\n",
    "def get_playlist_tracks(playlist_id):\n",
    "    results = sp.user_playlist_tracks(\"spotify\",playlist_id)\n",
    "    tracks = results['items']\n",
    "    while results['next']!=None:\n",
    "        results = sp.next(results)\n",
    "        tracks = tracks + results['items']\n",
    "        sleep(randint(1,3)) # 1, 2, or 3 seconds\n",
    "    return tracks"
   ]
  },
  {
   "cell_type": "code",
   "execution_count": 66,
   "id": "96157b82",
   "metadata": {},
   "outputs": [],
   "source": [
    "all_tracks = get_playlist_tracks(\"36f5MuoelMRwVIet1HUqYC\")"
   ]
  },
  {
   "cell_type": "code",
   "execution_count": 67,
   "id": "3e0368bf",
   "metadata": {},
   "outputs": [
    {
     "data": {
      "text/plain": [
       "502"
      ]
     },
     "execution_count": 67,
     "metadata": {},
     "output_type": "execute_result"
    }
   ],
   "source": [
    "len(all_tracks)"
   ]
  },
  {
   "cell_type": "code",
   "execution_count": 68,
   "id": "61196ae9",
   "metadata": {},
   "outputs": [],
   "source": [
    "def flatten_it(data, col_list):\n",
    "    for column in col_list:\n",
    "        flattened = pd.DataFrame(dict(data[column])).transpose()\n",
    "        columns = [str(col) for col in flattened.columns]\n",
    "        flattened.columns = [column + '_' + colname for colname in columns]\n",
    "        data = pd.concat([data, flattened], axis=1)\n",
    "        data = data.drop(column, axis=1)\n",
    "    return data"
   ]
  },
  {
   "cell_type": "code",
   "execution_count": 69,
   "id": "3ce67ba2",
   "metadata": {},
   "outputs": [],
   "source": [
    "def playlist_to_df(tracks_list):\n",
    "    artist_s = []\n",
    "    song_s = []\n",
    "    song_uri_s=[]\n",
    "    features_s= []\n",
    "\n",
    "    num_iter = len(tracks_list)\n",
    "\n",
    "    for i in range(num_iter):\n",
    "        artist_s.append(tracks_list[i]['track']['album']['artists'][0]['name'])\n",
    "        song_s.append(tracks_list[i]['track']['name'])\n",
    "        song_uri_s.append(tracks_list[i]['track']['uri'])\n",
    "        features_s.append(sp.audio_features(song_uri_s[i]))\n",
    "        \n",
    "    df_v0= pd.DataFrame({\"artist\":artist_s,\"song\":song_s,\"audio_features\":features_s})\n",
    "    \n",
    "    nested_columns = ['audio_features']\n",
    "    df_v1 = flatten_it(df_v0, nested_columns)\n",
    "    music_df=pd.concat([df_v1.drop(['audio_features_0'], axis=1), df_v1['audio_features_0'].apply(pd.Series)], axis=1)\n",
    "    \n",
    "    return music_df\n"
   ]
  },
  {
   "cell_type": "code",
   "execution_count": 70,
   "id": "9635c88b",
   "metadata": {},
   "outputs": [],
   "source": [
    "spotify_df_1=playlist_to_df(all_tracks)"
   ]
  },
  {
   "cell_type": "code",
   "execution_count": 71,
   "id": "f25bd913",
   "metadata": {},
   "outputs": [
    {
     "data": {
      "text/html": [
       "<div>\n",
       "<style scoped>\n",
       "    .dataframe tbody tr th:only-of-type {\n",
       "        vertical-align: middle;\n",
       "    }\n",
       "\n",
       "    .dataframe tbody tr th {\n",
       "        vertical-align: top;\n",
       "    }\n",
       "\n",
       "    .dataframe thead th {\n",
       "        text-align: right;\n",
       "    }\n",
       "</style>\n",
       "<table border=\"1\" class=\"dataframe\">\n",
       "  <thead>\n",
       "    <tr style=\"text-align: right;\">\n",
       "      <th></th>\n",
       "      <th>artist</th>\n",
       "      <th>song</th>\n",
       "      <th>danceability</th>\n",
       "      <th>energy</th>\n",
       "      <th>key</th>\n",
       "      <th>loudness</th>\n",
       "      <th>mode</th>\n",
       "      <th>speechiness</th>\n",
       "      <th>acousticness</th>\n",
       "      <th>instrumentalness</th>\n",
       "      <th>liveness</th>\n",
       "      <th>valence</th>\n",
       "      <th>tempo</th>\n",
       "      <th>type</th>\n",
       "      <th>id</th>\n",
       "      <th>uri</th>\n",
       "      <th>track_href</th>\n",
       "      <th>analysis_url</th>\n",
       "      <th>duration_ms</th>\n",
       "      <th>time_signature</th>\n",
       "    </tr>\n",
       "  </thead>\n",
       "  <tbody>\n",
       "    <tr>\n",
       "      <th>0</th>\n",
       "      <td>John Lennon</td>\n",
       "      <td>Imagine - Remastered 2010</td>\n",
       "      <td>0.547</td>\n",
       "      <td>0.257</td>\n",
       "      <td>0</td>\n",
       "      <td>-12.358</td>\n",
       "      <td>1</td>\n",
       "      <td>0.0252</td>\n",
       "      <td>0.907</td>\n",
       "      <td>0.1830</td>\n",
       "      <td>0.0935</td>\n",
       "      <td>0.169</td>\n",
       "      <td>75.752</td>\n",
       "      <td>audio_features</td>\n",
       "      <td>7pKfPomDEeI4TPT6EOYjn9</td>\n",
       "      <td>spotify:track:7pKfPomDEeI4TPT6EOYjn9</td>\n",
       "      <td>https://api.spotify.com/v1/tracks/7pKfPomDEeI4...</td>\n",
       "      <td>https://api.spotify.com/v1/audio-analysis/7pKf...</td>\n",
       "      <td>187867</td>\n",
       "      <td>4</td>\n",
       "    </tr>\n",
       "    <tr>\n",
       "      <th>1</th>\n",
       "      <td>Procol Harum</td>\n",
       "      <td>A Whiter Shade Of Pale</td>\n",
       "      <td>0.249</td>\n",
       "      <td>0.660</td>\n",
       "      <td>0</td>\n",
       "      <td>-6.905</td>\n",
       "      <td>1</td>\n",
       "      <td>0.0342</td>\n",
       "      <td>0.504</td>\n",
       "      <td>0.0026</td>\n",
       "      <td>0.0891</td>\n",
       "      <td>0.435</td>\n",
       "      <td>149.813</td>\n",
       "      <td>audio_features</td>\n",
       "      <td>3qitymULqEibr7yknRMKU4</td>\n",
       "      <td>spotify:track:3qitymULqEibr7yknRMKU4</td>\n",
       "      <td>https://api.spotify.com/v1/tracks/3qitymULqEib...</td>\n",
       "      <td>https://api.spotify.com/v1/audio-analysis/3qit...</td>\n",
       "      <td>248947</td>\n",
       "      <td>4</td>\n",
       "    </tr>\n",
       "    <tr>\n",
       "      <th>2</th>\n",
       "      <td>Queen</td>\n",
       "      <td>Bohemian Rhapsody - Remastered 2011</td>\n",
       "      <td>0.414</td>\n",
       "      <td>0.404</td>\n",
       "      <td>0</td>\n",
       "      <td>-9.928</td>\n",
       "      <td>0</td>\n",
       "      <td>0.0499</td>\n",
       "      <td>0.271</td>\n",
       "      <td>0.0000</td>\n",
       "      <td>0.3000</td>\n",
       "      <td>0.224</td>\n",
       "      <td>71.105</td>\n",
       "      <td>audio_features</td>\n",
       "      <td>1AhDOtG9vPSOmsWgNW0BEY</td>\n",
       "      <td>spotify:track:1AhDOtG9vPSOmsWgNW0BEY</td>\n",
       "      <td>https://api.spotify.com/v1/tracks/1AhDOtG9vPSO...</td>\n",
       "      <td>https://api.spotify.com/v1/audio-analysis/1AhD...</td>\n",
       "      <td>354320</td>\n",
       "      <td>4</td>\n",
       "    </tr>\n",
       "    <tr>\n",
       "      <th>3</th>\n",
       "      <td>Pink Floyd</td>\n",
       "      <td>Comfortably Numb - 2011 Remastered Version</td>\n",
       "      <td>0.472</td>\n",
       "      <td>0.366</td>\n",
       "      <td>11</td>\n",
       "      <td>-12.595</td>\n",
       "      <td>0</td>\n",
       "      <td>0.0286</td>\n",
       "      <td>0.150</td>\n",
       "      <td>0.3080</td>\n",
       "      <td>0.0837</td>\n",
       "      <td>0.171</td>\n",
       "      <td>127.167</td>\n",
       "      <td>audio_features</td>\n",
       "      <td>082cLCIXNPg2ruTrENz4Vt</td>\n",
       "      <td>spotify:track:082cLCIXNPg2ruTrENz4Vt</td>\n",
       "      <td>https://api.spotify.com/v1/tracks/082cLCIXNPg2...</td>\n",
       "      <td>https://api.spotify.com/v1/audio-analysis/082c...</td>\n",
       "      <td>382297</td>\n",
       "      <td>4</td>\n",
       "    </tr>\n",
       "    <tr>\n",
       "      <th>4</th>\n",
       "      <td>Bob Dylan</td>\n",
       "      <td>Knockin' On Heaven's Door</td>\n",
       "      <td>0.513</td>\n",
       "      <td>0.396</td>\n",
       "      <td>7</td>\n",
       "      <td>-13.061</td>\n",
       "      <td>1</td>\n",
       "      <td>0.0299</td>\n",
       "      <td>0.251</td>\n",
       "      <td>0.1770</td>\n",
       "      <td>0.1100</td>\n",
       "      <td>0.229</td>\n",
       "      <td>140.208</td>\n",
       "      <td>audio_features</td>\n",
       "      <td>6HSXNV0b4M4cLJ7ljgVVeh</td>\n",
       "      <td>spotify:track:6HSXNV0b4M4cLJ7ljgVVeh</td>\n",
       "      <td>https://api.spotify.com/v1/tracks/6HSXNV0b4M4c...</td>\n",
       "      <td>https://api.spotify.com/v1/audio-analysis/6HSX...</td>\n",
       "      <td>149880</td>\n",
       "      <td>4</td>\n",
       "    </tr>\n",
       "  </tbody>\n",
       "</table>\n",
       "</div>"
      ],
      "text/plain": [
       "         artist                                        song  danceability  \\\n",
       "0   John Lennon                   Imagine - Remastered 2010         0.547   \n",
       "1  Procol Harum                      A Whiter Shade Of Pale         0.249   \n",
       "2         Queen         Bohemian Rhapsody - Remastered 2011         0.414   \n",
       "3    Pink Floyd  Comfortably Numb - 2011 Remastered Version         0.472   \n",
       "4     Bob Dylan                   Knockin' On Heaven's Door         0.513   \n",
       "\n",
       "   energy  key  loudness  mode  speechiness  acousticness  instrumentalness  \\\n",
       "0   0.257    0   -12.358     1       0.0252         0.907            0.1830   \n",
       "1   0.660    0    -6.905     1       0.0342         0.504            0.0026   \n",
       "2   0.404    0    -9.928     0       0.0499         0.271            0.0000   \n",
       "3   0.366   11   -12.595     0       0.0286         0.150            0.3080   \n",
       "4   0.396    7   -13.061     1       0.0299         0.251            0.1770   \n",
       "\n",
       "   liveness  valence    tempo            type                      id  \\\n",
       "0    0.0935    0.169   75.752  audio_features  7pKfPomDEeI4TPT6EOYjn9   \n",
       "1    0.0891    0.435  149.813  audio_features  3qitymULqEibr7yknRMKU4   \n",
       "2    0.3000    0.224   71.105  audio_features  1AhDOtG9vPSOmsWgNW0BEY   \n",
       "3    0.0837    0.171  127.167  audio_features  082cLCIXNPg2ruTrENz4Vt   \n",
       "4    0.1100    0.229  140.208  audio_features  6HSXNV0b4M4cLJ7ljgVVeh   \n",
       "\n",
       "                                    uri  \\\n",
       "0  spotify:track:7pKfPomDEeI4TPT6EOYjn9   \n",
       "1  spotify:track:3qitymULqEibr7yknRMKU4   \n",
       "2  spotify:track:1AhDOtG9vPSOmsWgNW0BEY   \n",
       "3  spotify:track:082cLCIXNPg2ruTrENz4Vt   \n",
       "4  spotify:track:6HSXNV0b4M4cLJ7ljgVVeh   \n",
       "\n",
       "                                          track_href  \\\n",
       "0  https://api.spotify.com/v1/tracks/7pKfPomDEeI4...   \n",
       "1  https://api.spotify.com/v1/tracks/3qitymULqEib...   \n",
       "2  https://api.spotify.com/v1/tracks/1AhDOtG9vPSO...   \n",
       "3  https://api.spotify.com/v1/tracks/082cLCIXNPg2...   \n",
       "4  https://api.spotify.com/v1/tracks/6HSXNV0b4M4c...   \n",
       "\n",
       "                                        analysis_url  duration_ms  \\\n",
       "0  https://api.spotify.com/v1/audio-analysis/7pKf...       187867   \n",
       "1  https://api.spotify.com/v1/audio-analysis/3qit...       248947   \n",
       "2  https://api.spotify.com/v1/audio-analysis/1AhD...       354320   \n",
       "3  https://api.spotify.com/v1/audio-analysis/082c...       382297   \n",
       "4  https://api.spotify.com/v1/audio-analysis/6HSX...       149880   \n",
       "\n",
       "   time_signature  \n",
       "0               4  \n",
       "1               4  \n",
       "2               4  \n",
       "3               4  \n",
       "4               4  "
      ]
     },
     "metadata": {},
     "output_type": "display_data"
    },
    {
     "data": {
      "text/plain": [
       "(502, 20)"
      ]
     },
     "metadata": {},
     "output_type": "display_data"
    }
   ],
   "source": [
    "display(spotify_df_1.head())\n",
    "display(spotify_df_1.shape)\n"
   ]
  },
  {
   "cell_type": "markdown",
   "id": "dbbb7bdd",
   "metadata": {},
   "source": [
    "### Adding a second playlist"
   ]
  },
  {
   "cell_type": "code",
   "execution_count": 72,
   "id": "ce1256bd",
   "metadata": {},
   "outputs": [],
   "source": [
    "all_tracks_2 = get_playlist_tracks(\"532F1h299qKD894BlPfJJF\")"
   ]
  },
  {
   "cell_type": "code",
   "execution_count": 73,
   "id": "997b8775",
   "metadata": {},
   "outputs": [
    {
     "data": {
      "text/plain": [
       "6246"
      ]
     },
     "execution_count": 73,
     "metadata": {},
     "output_type": "execute_result"
    }
   ],
   "source": [
    "len(all_tracks_2)"
   ]
  },
  {
   "cell_type": "code",
   "execution_count": 74,
   "id": "9c72a67e",
   "metadata": {},
   "outputs": [],
   "source": [
    "spotify_df_2=playlist_to_df(all_tracks_2)"
   ]
  },
  {
   "cell_type": "code",
   "execution_count": 75,
   "id": "a06e5b1f",
   "metadata": {},
   "outputs": [
    {
     "data": {
      "text/html": [
       "<div>\n",
       "<style scoped>\n",
       "    .dataframe tbody tr th:only-of-type {\n",
       "        vertical-align: middle;\n",
       "    }\n",
       "\n",
       "    .dataframe tbody tr th {\n",
       "        vertical-align: top;\n",
       "    }\n",
       "\n",
       "    .dataframe thead th {\n",
       "        text-align: right;\n",
       "    }\n",
       "</style>\n",
       "<table border=\"1\" class=\"dataframe\">\n",
       "  <thead>\n",
       "    <tr style=\"text-align: right;\">\n",
       "      <th></th>\n",
       "      <th>artist</th>\n",
       "      <th>song</th>\n",
       "      <th>danceability</th>\n",
       "      <th>energy</th>\n",
       "      <th>key</th>\n",
       "      <th>loudness</th>\n",
       "      <th>mode</th>\n",
       "      <th>speechiness</th>\n",
       "      <th>acousticness</th>\n",
       "      <th>instrumentalness</th>\n",
       "      <th>liveness</th>\n",
       "      <th>valence</th>\n",
       "      <th>tempo</th>\n",
       "      <th>type</th>\n",
       "      <th>id</th>\n",
       "      <th>uri</th>\n",
       "      <th>track_href</th>\n",
       "      <th>analysis_url</th>\n",
       "      <th>duration_ms</th>\n",
       "      <th>time_signature</th>\n",
       "    </tr>\n",
       "  </thead>\n",
       "  <tbody>\n",
       "    <tr>\n",
       "      <th>0</th>\n",
       "      <td>Roy Orbison</td>\n",
       "      <td>Oh, Pretty Woman</td>\n",
       "      <td>0.619</td>\n",
       "      <td>0.603</td>\n",
       "      <td>9</td>\n",
       "      <td>-9.481</td>\n",
       "      <td>1</td>\n",
       "      <td>0.0342</td>\n",
       "      <td>0.712</td>\n",
       "      <td>0.000000</td>\n",
       "      <td>0.0721</td>\n",
       "      <td>0.958</td>\n",
       "      <td>127.433</td>\n",
       "      <td>audio_features</td>\n",
       "      <td>48i055G1OT5KxGGftwFxWy</td>\n",
       "      <td>spotify:track:48i055G1OT5KxGGftwFxWy</td>\n",
       "      <td>https://api.spotify.com/v1/tracks/48i055G1OT5K...</td>\n",
       "      <td>https://api.spotify.com/v1/audio-analysis/48i0...</td>\n",
       "      <td>178933</td>\n",
       "      <td>4</td>\n",
       "    </tr>\n",
       "    <tr>\n",
       "      <th>1</th>\n",
       "      <td>The Monkees</td>\n",
       "      <td>I'm a Believer - 2006 Remaster</td>\n",
       "      <td>0.526</td>\n",
       "      <td>0.775</td>\n",
       "      <td>0</td>\n",
       "      <td>-6.050</td>\n",
       "      <td>1</td>\n",
       "      <td>0.0352</td>\n",
       "      <td>0.707</td>\n",
       "      <td>0.000021</td>\n",
       "      <td>0.2170</td>\n",
       "      <td>0.962</td>\n",
       "      <td>80.106</td>\n",
       "      <td>audio_features</td>\n",
       "      <td>3G7tRC24Uh09Hmp1KZ7LQ2</td>\n",
       "      <td>spotify:track:3G7tRC24Uh09Hmp1KZ7LQ2</td>\n",
       "      <td>https://api.spotify.com/v1/tracks/3G7tRC24Uh09...</td>\n",
       "      <td>https://api.spotify.com/v1/audio-analysis/3G7t...</td>\n",
       "      <td>167373</td>\n",
       "      <td>4</td>\n",
       "    </tr>\n",
       "    <tr>\n",
       "      <th>2</th>\n",
       "      <td>Jefferson Airplane</td>\n",
       "      <td>Somebody to Love</td>\n",
       "      <td>0.504</td>\n",
       "      <td>0.578</td>\n",
       "      <td>4</td>\n",
       "      <td>-9.302</td>\n",
       "      <td>1</td>\n",
       "      <td>0.0310</td>\n",
       "      <td>0.408</td>\n",
       "      <td>0.000000</td>\n",
       "      <td>0.3210</td>\n",
       "      <td>0.654</td>\n",
       "      <td>132.411</td>\n",
       "      <td>audio_features</td>\n",
       "      <td>4uGIJG1jYFonGc4LGp5uQL</td>\n",
       "      <td>spotify:track:4uGIJG1jYFonGc4LGp5uQL</td>\n",
       "      <td>https://api.spotify.com/v1/tracks/4uGIJG1jYFon...</td>\n",
       "      <td>https://api.spotify.com/v1/audio-analysis/4uGI...</td>\n",
       "      <td>174840</td>\n",
       "      <td>4</td>\n",
       "    </tr>\n",
       "    <tr>\n",
       "      <th>3</th>\n",
       "      <td>The Turtles</td>\n",
       "      <td>Happy Together</td>\n",
       "      <td>0.584</td>\n",
       "      <td>0.367</td>\n",
       "      <td>6</td>\n",
       "      <td>-9.638</td>\n",
       "      <td>0</td>\n",
       "      <td>0.0328</td>\n",
       "      <td>0.550</td>\n",
       "      <td>0.000014</td>\n",
       "      <td>0.0818</td>\n",
       "      <td>0.588</td>\n",
       "      <td>120.175</td>\n",
       "      <td>audio_features</td>\n",
       "      <td>1JO1xLtVc8mWhIoE3YaCL0</td>\n",
       "      <td>spotify:track:1JO1xLtVc8mWhIoE3YaCL0</td>\n",
       "      <td>https://api.spotify.com/v1/tracks/1JO1xLtVc8mW...</td>\n",
       "      <td>https://api.spotify.com/v1/audio-analysis/1JO1...</td>\n",
       "      <td>176293</td>\n",
       "      <td>4</td>\n",
       "    </tr>\n",
       "    <tr>\n",
       "      <th>4</th>\n",
       "      <td>The Beach Boys</td>\n",
       "      <td>Wouldn't It Be Nice - Remastered 2000 / Stereo...</td>\n",
       "      <td>0.392</td>\n",
       "      <td>0.629</td>\n",
       "      <td>5</td>\n",
       "      <td>-7.056</td>\n",
       "      <td>1</td>\n",
       "      <td>0.0335</td>\n",
       "      <td>0.718</td>\n",
       "      <td>0.000004</td>\n",
       "      <td>0.1290</td>\n",
       "      <td>0.720</td>\n",
       "      <td>124.511</td>\n",
       "      <td>audio_features</td>\n",
       "      <td>2Gy7qnDwt8Z3MNxqat4CsK</td>\n",
       "      <td>spotify:track:2Gy7qnDwt8Z3MNxqat4CsK</td>\n",
       "      <td>https://api.spotify.com/v1/tracks/2Gy7qnDwt8Z3...</td>\n",
       "      <td>https://api.spotify.com/v1/audio-analysis/2Gy7...</td>\n",
       "      <td>153205</td>\n",
       "      <td>4</td>\n",
       "    </tr>\n",
       "  </tbody>\n",
       "</table>\n",
       "</div>"
      ],
      "text/plain": [
       "               artist                                               song  \\\n",
       "0         Roy Orbison                                   Oh, Pretty Woman   \n",
       "1         The Monkees                     I'm a Believer - 2006 Remaster   \n",
       "2  Jefferson Airplane                                   Somebody to Love   \n",
       "3         The Turtles                                     Happy Together   \n",
       "4      The Beach Boys  Wouldn't It Be Nice - Remastered 2000 / Stereo...   \n",
       "\n",
       "   danceability  energy  key  loudness  mode  speechiness  acousticness  \\\n",
       "0         0.619   0.603    9    -9.481     1       0.0342         0.712   \n",
       "1         0.526   0.775    0    -6.050     1       0.0352         0.707   \n",
       "2         0.504   0.578    4    -9.302     1       0.0310         0.408   \n",
       "3         0.584   0.367    6    -9.638     0       0.0328         0.550   \n",
       "4         0.392   0.629    5    -7.056     1       0.0335         0.718   \n",
       "\n",
       "   instrumentalness  liveness  valence    tempo            type  \\\n",
       "0          0.000000    0.0721    0.958  127.433  audio_features   \n",
       "1          0.000021    0.2170    0.962   80.106  audio_features   \n",
       "2          0.000000    0.3210    0.654  132.411  audio_features   \n",
       "3          0.000014    0.0818    0.588  120.175  audio_features   \n",
       "4          0.000004    0.1290    0.720  124.511  audio_features   \n",
       "\n",
       "                       id                                   uri  \\\n",
       "0  48i055G1OT5KxGGftwFxWy  spotify:track:48i055G1OT5KxGGftwFxWy   \n",
       "1  3G7tRC24Uh09Hmp1KZ7LQ2  spotify:track:3G7tRC24Uh09Hmp1KZ7LQ2   \n",
       "2  4uGIJG1jYFonGc4LGp5uQL  spotify:track:4uGIJG1jYFonGc4LGp5uQL   \n",
       "3  1JO1xLtVc8mWhIoE3YaCL0  spotify:track:1JO1xLtVc8mWhIoE3YaCL0   \n",
       "4  2Gy7qnDwt8Z3MNxqat4CsK  spotify:track:2Gy7qnDwt8Z3MNxqat4CsK   \n",
       "\n",
       "                                          track_href  \\\n",
       "0  https://api.spotify.com/v1/tracks/48i055G1OT5K...   \n",
       "1  https://api.spotify.com/v1/tracks/3G7tRC24Uh09...   \n",
       "2  https://api.spotify.com/v1/tracks/4uGIJG1jYFon...   \n",
       "3  https://api.spotify.com/v1/tracks/1JO1xLtVc8mW...   \n",
       "4  https://api.spotify.com/v1/tracks/2Gy7qnDwt8Z3...   \n",
       "\n",
       "                                        analysis_url  duration_ms  \\\n",
       "0  https://api.spotify.com/v1/audio-analysis/48i0...       178933   \n",
       "1  https://api.spotify.com/v1/audio-analysis/3G7t...       167373   \n",
       "2  https://api.spotify.com/v1/audio-analysis/4uGI...       174840   \n",
       "3  https://api.spotify.com/v1/audio-analysis/1JO1...       176293   \n",
       "4  https://api.spotify.com/v1/audio-analysis/2Gy7...       153205   \n",
       "\n",
       "   time_signature  \n",
       "0               4  \n",
       "1               4  \n",
       "2               4  \n",
       "3               4  \n",
       "4               4  "
      ]
     },
     "metadata": {},
     "output_type": "display_data"
    },
    {
     "data": {
      "text/plain": [
       "(6246, 20)"
      ]
     },
     "metadata": {},
     "output_type": "display_data"
    }
   ],
   "source": [
    "display(spotify_df_2.head())\n",
    "display(spotify_df_2.shape)\n"
   ]
  },
  {
   "cell_type": "markdown",
   "id": "bd4a0ed9",
   "metadata": {},
   "source": [
    "### Adding a third playlist"
   ]
  },
  {
   "cell_type": "code",
   "execution_count": 76,
   "id": "e24323fa",
   "metadata": {},
   "outputs": [],
   "source": [
    "all_tracks_3 = get_playlist_tracks(\"77CxoauZX3xv8VsfVwPJxT\")"
   ]
  },
  {
   "cell_type": "code",
   "execution_count": 77,
   "id": "e2ab5a5a",
   "metadata": {},
   "outputs": [
    {
     "data": {
      "text/plain": [
       "1716"
      ]
     },
     "execution_count": 77,
     "metadata": {},
     "output_type": "execute_result"
    }
   ],
   "source": [
    "len(all_tracks_3)"
   ]
  },
  {
   "cell_type": "code",
   "execution_count": 78,
   "id": "7bbc828f",
   "metadata": {},
   "outputs": [],
   "source": [
    "spotify_df_3=playlist_to_df(all_tracks_3)"
   ]
  },
  {
   "cell_type": "code",
   "execution_count": 79,
   "id": "bc1f13d4",
   "metadata": {},
   "outputs": [
    {
     "data": {
      "text/html": [
       "<div>\n",
       "<style scoped>\n",
       "    .dataframe tbody tr th:only-of-type {\n",
       "        vertical-align: middle;\n",
       "    }\n",
       "\n",
       "    .dataframe tbody tr th {\n",
       "        vertical-align: top;\n",
       "    }\n",
       "\n",
       "    .dataframe thead th {\n",
       "        text-align: right;\n",
       "    }\n",
       "</style>\n",
       "<table border=\"1\" class=\"dataframe\">\n",
       "  <thead>\n",
       "    <tr style=\"text-align: right;\">\n",
       "      <th></th>\n",
       "      <th>artist</th>\n",
       "      <th>song</th>\n",
       "      <th>danceability</th>\n",
       "      <th>energy</th>\n",
       "      <th>key</th>\n",
       "      <th>loudness</th>\n",
       "      <th>mode</th>\n",
       "      <th>speechiness</th>\n",
       "      <th>acousticness</th>\n",
       "      <th>instrumentalness</th>\n",
       "      <th>liveness</th>\n",
       "      <th>valence</th>\n",
       "      <th>tempo</th>\n",
       "      <th>type</th>\n",
       "      <th>id</th>\n",
       "      <th>uri</th>\n",
       "      <th>track_href</th>\n",
       "      <th>analysis_url</th>\n",
       "      <th>duration_ms</th>\n",
       "      <th>time_signature</th>\n",
       "    </tr>\n",
       "  </thead>\n",
       "  <tbody>\n",
       "    <tr>\n",
       "      <th>0</th>\n",
       "      <td>Lost Frequencies</td>\n",
       "      <td>Like I Love You</td>\n",
       "      <td>0.863</td>\n",
       "      <td>0.588</td>\n",
       "      <td>1</td>\n",
       "      <td>-7.141</td>\n",
       "      <td>1</td>\n",
       "      <td>0.0847</td>\n",
       "      <td>0.1420</td>\n",
       "      <td>0.000034</td>\n",
       "      <td>0.4570</td>\n",
       "      <td>0.751</td>\n",
       "      <td>117.911</td>\n",
       "      <td>audio_features</td>\n",
       "      <td>4sh506lJZac1T4o4NqtIuS</td>\n",
       "      <td>spotify:track:4sh506lJZac1T4o4NqtIuS</td>\n",
       "      <td>https://api.spotify.com/v1/tracks/4sh506lJZac1...</td>\n",
       "      <td>https://api.spotify.com/v1/audio-analysis/4sh5...</td>\n",
       "      <td>190174</td>\n",
       "      <td>4</td>\n",
       "    </tr>\n",
       "    <tr>\n",
       "      <th>1</th>\n",
       "      <td>Shawn Mendes</td>\n",
       "      <td>Lost In Japan - Remix</td>\n",
       "      <td>0.706</td>\n",
       "      <td>0.855</td>\n",
       "      <td>10</td>\n",
       "      <td>-5.377</td>\n",
       "      <td>1</td>\n",
       "      <td>0.2150</td>\n",
       "      <td>0.0911</td>\n",
       "      <td>0.000000</td>\n",
       "      <td>0.3470</td>\n",
       "      <td>0.293</td>\n",
       "      <td>107.184</td>\n",
       "      <td>audio_features</td>\n",
       "      <td>575NJxNUVDqwJGdzBrlLbv</td>\n",
       "      <td>spotify:track:575NJxNUVDqwJGdzBrlLbv</td>\n",
       "      <td>https://api.spotify.com/v1/tracks/575NJxNUVDqw...</td>\n",
       "      <td>https://api.spotify.com/v1/audio-analysis/575N...</td>\n",
       "      <td>201253</td>\n",
       "      <td>4</td>\n",
       "    </tr>\n",
       "    <tr>\n",
       "      <th>2</th>\n",
       "      <td>Dua Lipa</td>\n",
       "      <td>IDGAF</td>\n",
       "      <td>0.836</td>\n",
       "      <td>0.544</td>\n",
       "      <td>7</td>\n",
       "      <td>-5.975</td>\n",
       "      <td>1</td>\n",
       "      <td>0.0943</td>\n",
       "      <td>0.0403</td>\n",
       "      <td>0.000000</td>\n",
       "      <td>0.0824</td>\n",
       "      <td>0.510</td>\n",
       "      <td>97.028</td>\n",
       "      <td>audio_features</td>\n",
       "      <td>76cy1WJvNGJTj78UqeA5zr</td>\n",
       "      <td>spotify:track:76cy1WJvNGJTj78UqeA5zr</td>\n",
       "      <td>https://api.spotify.com/v1/tracks/76cy1WJvNGJT...</td>\n",
       "      <td>https://api.spotify.com/v1/audio-analysis/76cy...</td>\n",
       "      <td>217947</td>\n",
       "      <td>4</td>\n",
       "    </tr>\n",
       "    <tr>\n",
       "      <th>3</th>\n",
       "      <td>Rita Ora</td>\n",
       "      <td>Your Song</td>\n",
       "      <td>0.855</td>\n",
       "      <td>0.624</td>\n",
       "      <td>1</td>\n",
       "      <td>-4.093</td>\n",
       "      <td>1</td>\n",
       "      <td>0.0488</td>\n",
       "      <td>0.1580</td>\n",
       "      <td>0.000000</td>\n",
       "      <td>0.0513</td>\n",
       "      <td>0.962</td>\n",
       "      <td>117.959</td>\n",
       "      <td>audio_features</td>\n",
       "      <td>4c2W3VKsOFoIg2SFaO6DY5</td>\n",
       "      <td>spotify:track:4c2W3VKsOFoIg2SFaO6DY5</td>\n",
       "      <td>https://api.spotify.com/v1/tracks/4c2W3VKsOFoI...</td>\n",
       "      <td>https://api.spotify.com/v1/audio-analysis/4c2W...</td>\n",
       "      <td>180757</td>\n",
       "      <td>4</td>\n",
       "    </tr>\n",
       "    <tr>\n",
       "      <th>4</th>\n",
       "      <td>Julia Michaels</td>\n",
       "      <td>Issues</td>\n",
       "      <td>0.670</td>\n",
       "      <td>0.415</td>\n",
       "      <td>8</td>\n",
       "      <td>-6.855</td>\n",
       "      <td>1</td>\n",
       "      <td>0.0786</td>\n",
       "      <td>0.3900</td>\n",
       "      <td>0.000000</td>\n",
       "      <td>0.0617</td>\n",
       "      <td>0.445</td>\n",
       "      <td>114.212</td>\n",
       "      <td>audio_features</td>\n",
       "      <td>0xG0SHshCStMEyNbNC5d4k</td>\n",
       "      <td>spotify:track:0xG0SHshCStMEyNbNC5d4k</td>\n",
       "      <td>https://api.spotify.com/v1/tracks/0xG0SHshCStM...</td>\n",
       "      <td>https://api.spotify.com/v1/audio-analysis/0xG0...</td>\n",
       "      <td>176320</td>\n",
       "      <td>4</td>\n",
       "    </tr>\n",
       "  </tbody>\n",
       "</table>\n",
       "</div>"
      ],
      "text/plain": [
       "             artist                   song  danceability  energy  key  \\\n",
       "0  Lost Frequencies        Like I Love You         0.863   0.588    1   \n",
       "1      Shawn Mendes  Lost In Japan - Remix         0.706   0.855   10   \n",
       "2          Dua Lipa                  IDGAF         0.836   0.544    7   \n",
       "3          Rita Ora              Your Song         0.855   0.624    1   \n",
       "4    Julia Michaels                 Issues         0.670   0.415    8   \n",
       "\n",
       "   loudness  mode  speechiness  acousticness  instrumentalness  liveness  \\\n",
       "0    -7.141     1       0.0847        0.1420          0.000034    0.4570   \n",
       "1    -5.377     1       0.2150        0.0911          0.000000    0.3470   \n",
       "2    -5.975     1       0.0943        0.0403          0.000000    0.0824   \n",
       "3    -4.093     1       0.0488        0.1580          0.000000    0.0513   \n",
       "4    -6.855     1       0.0786        0.3900          0.000000    0.0617   \n",
       "\n",
       "   valence    tempo            type                      id  \\\n",
       "0    0.751  117.911  audio_features  4sh506lJZac1T4o4NqtIuS   \n",
       "1    0.293  107.184  audio_features  575NJxNUVDqwJGdzBrlLbv   \n",
       "2    0.510   97.028  audio_features  76cy1WJvNGJTj78UqeA5zr   \n",
       "3    0.962  117.959  audio_features  4c2W3VKsOFoIg2SFaO6DY5   \n",
       "4    0.445  114.212  audio_features  0xG0SHshCStMEyNbNC5d4k   \n",
       "\n",
       "                                    uri  \\\n",
       "0  spotify:track:4sh506lJZac1T4o4NqtIuS   \n",
       "1  spotify:track:575NJxNUVDqwJGdzBrlLbv   \n",
       "2  spotify:track:76cy1WJvNGJTj78UqeA5zr   \n",
       "3  spotify:track:4c2W3VKsOFoIg2SFaO6DY5   \n",
       "4  spotify:track:0xG0SHshCStMEyNbNC5d4k   \n",
       "\n",
       "                                          track_href  \\\n",
       "0  https://api.spotify.com/v1/tracks/4sh506lJZac1...   \n",
       "1  https://api.spotify.com/v1/tracks/575NJxNUVDqw...   \n",
       "2  https://api.spotify.com/v1/tracks/76cy1WJvNGJT...   \n",
       "3  https://api.spotify.com/v1/tracks/4c2W3VKsOFoI...   \n",
       "4  https://api.spotify.com/v1/tracks/0xG0SHshCStM...   \n",
       "\n",
       "                                        analysis_url  duration_ms  \\\n",
       "0  https://api.spotify.com/v1/audio-analysis/4sh5...       190174   \n",
       "1  https://api.spotify.com/v1/audio-analysis/575N...       201253   \n",
       "2  https://api.spotify.com/v1/audio-analysis/76cy...       217947   \n",
       "3  https://api.spotify.com/v1/audio-analysis/4c2W...       180757   \n",
       "4  https://api.spotify.com/v1/audio-analysis/0xG0...       176320   \n",
       "\n",
       "   time_signature  \n",
       "0               4  \n",
       "1               4  \n",
       "2               4  \n",
       "3               4  \n",
       "4               4  "
      ]
     },
     "metadata": {},
     "output_type": "display_data"
    },
    {
     "data": {
      "text/plain": [
       "(1716, 20)"
      ]
     },
     "metadata": {},
     "output_type": "display_data"
    }
   ],
   "source": [
    "display(spotify_df_3.head())\n",
    "display(spotify_df_3.shape)\n"
   ]
  },
  {
   "cell_type": "markdown",
   "id": "acab342f",
   "metadata": {},
   "source": [
    "### Adding a fourth playlist"
   ]
  },
  {
   "cell_type": "code",
   "execution_count": 80,
   "id": "e25d7cd2",
   "metadata": {},
   "outputs": [],
   "source": [
    "all_tracks_4 = get_playlist_tracks(\"6sNDAFPubg3k4CuyH1fqrR\")"
   ]
  },
  {
   "cell_type": "code",
   "execution_count": 81,
   "id": "680ce118",
   "metadata": {},
   "outputs": [
    {
     "data": {
      "text/plain": [
       "1015"
      ]
     },
     "execution_count": 81,
     "metadata": {},
     "output_type": "execute_result"
    }
   ],
   "source": [
    "len(all_tracks_4)"
   ]
  },
  {
   "cell_type": "code",
   "execution_count": 82,
   "id": "811a8e71",
   "metadata": {},
   "outputs": [],
   "source": [
    "spotify_df_4=playlist_to_df(all_tracks_4)"
   ]
  },
  {
   "cell_type": "code",
   "execution_count": 83,
   "id": "dc14ab77",
   "metadata": {},
   "outputs": [
    {
     "data": {
      "text/html": [
       "<div>\n",
       "<style scoped>\n",
       "    .dataframe tbody tr th:only-of-type {\n",
       "        vertical-align: middle;\n",
       "    }\n",
       "\n",
       "    .dataframe tbody tr th {\n",
       "        vertical-align: top;\n",
       "    }\n",
       "\n",
       "    .dataframe thead th {\n",
       "        text-align: right;\n",
       "    }\n",
       "</style>\n",
       "<table border=\"1\" class=\"dataframe\">\n",
       "  <thead>\n",
       "    <tr style=\"text-align: right;\">\n",
       "      <th></th>\n",
       "      <th>artist</th>\n",
       "      <th>song</th>\n",
       "      <th>danceability</th>\n",
       "      <th>energy</th>\n",
       "      <th>key</th>\n",
       "      <th>loudness</th>\n",
       "      <th>mode</th>\n",
       "      <th>speechiness</th>\n",
       "      <th>acousticness</th>\n",
       "      <th>instrumentalness</th>\n",
       "      <th>liveness</th>\n",
       "      <th>valence</th>\n",
       "      <th>tempo</th>\n",
       "      <th>type</th>\n",
       "      <th>id</th>\n",
       "      <th>uri</th>\n",
       "      <th>track_href</th>\n",
       "      <th>analysis_url</th>\n",
       "      <th>duration_ms</th>\n",
       "      <th>time_signature</th>\n",
       "    </tr>\n",
       "  </thead>\n",
       "  <tbody>\n",
       "    <tr>\n",
       "      <th>0</th>\n",
       "      <td>Various Artists</td>\n",
       "      <td>Becoming one of \"The People\" Becoming one with...</td>\n",
       "      <td>0.0993</td>\n",
       "      <td>0.0902</td>\n",
       "      <td>1</td>\n",
       "      <td>-26.307</td>\n",
       "      <td>1</td>\n",
       "      <td>0.0428</td>\n",
       "      <td>0.692</td>\n",
       "      <td>0.8500</td>\n",
       "      <td>0.0745</td>\n",
       "      <td>0.0382</td>\n",
       "      <td>71.062</td>\n",
       "      <td>audio_features</td>\n",
       "      <td>1UBd7aWHZCz8yirI9KCvAU</td>\n",
       "      <td>spotify:track:1UBd7aWHZCz8yirI9KCvAU</td>\n",
       "      <td>https://api.spotify.com/v1/tracks/1UBd7aWHZCz8...</td>\n",
       "      <td>https://api.spotify.com/v1/audio-analysis/1UBd...</td>\n",
       "      <td>463707</td>\n",
       "      <td>3</td>\n",
       "    </tr>\n",
       "    <tr>\n",
       "      <th>1</th>\n",
       "      <td>James Horner</td>\n",
       "      <td>For The Love Of A Princess</td>\n",
       "      <td>0.1870</td>\n",
       "      <td>0.0602</td>\n",
       "      <td>9</td>\n",
       "      <td>-25.767</td>\n",
       "      <td>0</td>\n",
       "      <td>0.0464</td>\n",
       "      <td>0.408</td>\n",
       "      <td>0.9220</td>\n",
       "      <td>0.1220</td>\n",
       "      <td>0.0362</td>\n",
       "      <td>68.751</td>\n",
       "      <td>audio_features</td>\n",
       "      <td>22yxHt6UqZpH7tP6W4PooI</td>\n",
       "      <td>spotify:track:22yxHt6UqZpH7tP6W4PooI</td>\n",
       "      <td>https://api.spotify.com/v1/tracks/22yxHt6UqZpH...</td>\n",
       "      <td>https://api.spotify.com/v1/audio-analysis/22yx...</td>\n",
       "      <td>247333</td>\n",
       "      <td>4</td>\n",
       "    </tr>\n",
       "    <tr>\n",
       "      <th>2</th>\n",
       "      <td>Various Artists</td>\n",
       "      <td>The Council of Elrond (feat. \"Aniron\") [Theme ...</td>\n",
       "      <td>0.1040</td>\n",
       "      <td>0.1110</td>\n",
       "      <td>1</td>\n",
       "      <td>-20.031</td>\n",
       "      <td>1</td>\n",
       "      <td>0.0517</td>\n",
       "      <td>0.979</td>\n",
       "      <td>0.9260</td>\n",
       "      <td>0.1100</td>\n",
       "      <td>0.0390</td>\n",
       "      <td>83.933</td>\n",
       "      <td>audio_features</td>\n",
       "      <td>3Knohqfb9jeYzL6wMZiWLM</td>\n",
       "      <td>spotify:track:3Knohqfb9jeYzL6wMZiWLM</td>\n",
       "      <td>https://api.spotify.com/v1/tracks/3Knohqfb9jeY...</td>\n",
       "      <td>https://api.spotify.com/v1/audio-analysis/3Kno...</td>\n",
       "      <td>229107</td>\n",
       "      <td>4</td>\n",
       "    </tr>\n",
       "    <tr>\n",
       "      <th>3</th>\n",
       "      <td>The Lyndhurst Orchestra</td>\n",
       "      <td>Now We Are Free</td>\n",
       "      <td>0.3280</td>\n",
       "      <td>0.2190</td>\n",
       "      <td>9</td>\n",
       "      <td>-18.595</td>\n",
       "      <td>1</td>\n",
       "      <td>0.0337</td>\n",
       "      <td>0.579</td>\n",
       "      <td>0.0991</td>\n",
       "      <td>0.1040</td>\n",
       "      <td>0.0387</td>\n",
       "      <td>138.022</td>\n",
       "      <td>audio_features</td>\n",
       "      <td>11IXRdEjiH0KL8nh4G1j7d</td>\n",
       "      <td>spotify:track:11IXRdEjiH0KL8nh4G1j7d</td>\n",
       "      <td>https://api.spotify.com/v1/tracks/11IXRdEjiH0K...</td>\n",
       "      <td>https://api.spotify.com/v1/audio-analysis/11IX...</td>\n",
       "      <td>254293</td>\n",
       "      <td>4</td>\n",
       "    </tr>\n",
       "    <tr>\n",
       "      <th>4</th>\n",
       "      <td>Alan Silvestri</td>\n",
       "      <td>Suite from Forrest Gump</td>\n",
       "      <td>0.1110</td>\n",
       "      <td>0.1030</td>\n",
       "      <td>5</td>\n",
       "      <td>-18.360</td>\n",
       "      <td>1</td>\n",
       "      <td>0.0356</td>\n",
       "      <td>0.893</td>\n",
       "      <td>0.8160</td>\n",
       "      <td>0.1640</td>\n",
       "      <td>0.0448</td>\n",
       "      <td>84.520</td>\n",
       "      <td>audio_features</td>\n",
       "      <td>435vx38BVoUIqSG1VfoJOh</td>\n",
       "      <td>spotify:track:435vx38BVoUIqSG1VfoJOh</td>\n",
       "      <td>https://api.spotify.com/v1/tracks/435vx38BVoUI...</td>\n",
       "      <td>https://api.spotify.com/v1/audio-analysis/435v...</td>\n",
       "      <td>394240</td>\n",
       "      <td>4</td>\n",
       "    </tr>\n",
       "  </tbody>\n",
       "</table>\n",
       "</div>"
      ],
      "text/plain": [
       "                    artist                                               song  \\\n",
       "0          Various Artists  Becoming one of \"The People\" Becoming one with...   \n",
       "1             James Horner                         For The Love Of A Princess   \n",
       "2          Various Artists  The Council of Elrond (feat. \"Aniron\") [Theme ...   \n",
       "3  The Lyndhurst Orchestra                                    Now We Are Free   \n",
       "4           Alan Silvestri                            Suite from Forrest Gump   \n",
       "\n",
       "   danceability  energy  key  loudness  mode  speechiness  acousticness  \\\n",
       "0        0.0993  0.0902    1   -26.307     1       0.0428         0.692   \n",
       "1        0.1870  0.0602    9   -25.767     0       0.0464         0.408   \n",
       "2        0.1040  0.1110    1   -20.031     1       0.0517         0.979   \n",
       "3        0.3280  0.2190    9   -18.595     1       0.0337         0.579   \n",
       "4        0.1110  0.1030    5   -18.360     1       0.0356         0.893   \n",
       "\n",
       "   instrumentalness  liveness  valence    tempo            type  \\\n",
       "0            0.8500    0.0745   0.0382   71.062  audio_features   \n",
       "1            0.9220    0.1220   0.0362   68.751  audio_features   \n",
       "2            0.9260    0.1100   0.0390   83.933  audio_features   \n",
       "3            0.0991    0.1040   0.0387  138.022  audio_features   \n",
       "4            0.8160    0.1640   0.0448   84.520  audio_features   \n",
       "\n",
       "                       id                                   uri  \\\n",
       "0  1UBd7aWHZCz8yirI9KCvAU  spotify:track:1UBd7aWHZCz8yirI9KCvAU   \n",
       "1  22yxHt6UqZpH7tP6W4PooI  spotify:track:22yxHt6UqZpH7tP6W4PooI   \n",
       "2  3Knohqfb9jeYzL6wMZiWLM  spotify:track:3Knohqfb9jeYzL6wMZiWLM   \n",
       "3  11IXRdEjiH0KL8nh4G1j7d  spotify:track:11IXRdEjiH0KL8nh4G1j7d   \n",
       "4  435vx38BVoUIqSG1VfoJOh  spotify:track:435vx38BVoUIqSG1VfoJOh   \n",
       "\n",
       "                                          track_href  \\\n",
       "0  https://api.spotify.com/v1/tracks/1UBd7aWHZCz8...   \n",
       "1  https://api.spotify.com/v1/tracks/22yxHt6UqZpH...   \n",
       "2  https://api.spotify.com/v1/tracks/3Knohqfb9jeY...   \n",
       "3  https://api.spotify.com/v1/tracks/11IXRdEjiH0K...   \n",
       "4  https://api.spotify.com/v1/tracks/435vx38BVoUI...   \n",
       "\n",
       "                                        analysis_url  duration_ms  \\\n",
       "0  https://api.spotify.com/v1/audio-analysis/1UBd...       463707   \n",
       "1  https://api.spotify.com/v1/audio-analysis/22yx...       247333   \n",
       "2  https://api.spotify.com/v1/audio-analysis/3Kno...       229107   \n",
       "3  https://api.spotify.com/v1/audio-analysis/11IX...       254293   \n",
       "4  https://api.spotify.com/v1/audio-analysis/435v...       394240   \n",
       "\n",
       "   time_signature  \n",
       "0               3  \n",
       "1               4  \n",
       "2               4  \n",
       "3               4  \n",
       "4               4  "
      ]
     },
     "metadata": {},
     "output_type": "display_data"
    },
    {
     "data": {
      "text/plain": [
       "(1015, 20)"
      ]
     },
     "metadata": {},
     "output_type": "display_data"
    }
   ],
   "source": [
    "display(spotify_df_4.head())\n",
    "display(spotify_df_4.shape)\n"
   ]
  },
  {
   "cell_type": "markdown",
   "id": "be66e605",
   "metadata": {},
   "source": [
    "### Adding a fifth playlist"
   ]
  },
  {
   "cell_type": "code",
   "execution_count": 84,
   "id": "ff06b72f",
   "metadata": {},
   "outputs": [],
   "source": [
    "all_tracks_5 = get_playlist_tracks(\"7B0kSnc5JgV8ljvBAgsKD8\")"
   ]
  },
  {
   "cell_type": "code",
   "execution_count": 85,
   "id": "98c19deb",
   "metadata": {},
   "outputs": [
    {
     "data": {
      "text/plain": [
       "2742"
      ]
     },
     "execution_count": 85,
     "metadata": {},
     "output_type": "execute_result"
    }
   ],
   "source": [
    "len(all_tracks_5)"
   ]
  },
  {
   "cell_type": "code",
   "execution_count": 86,
   "id": "af3fb46b",
   "metadata": {},
   "outputs": [],
   "source": [
    "spotify_df_5=playlist_to_df(all_tracks_5)"
   ]
  },
  {
   "cell_type": "code",
   "execution_count": 87,
   "id": "c4b7e16e",
   "metadata": {},
   "outputs": [
    {
     "data": {
      "text/html": [
       "<div>\n",
       "<style scoped>\n",
       "    .dataframe tbody tr th:only-of-type {\n",
       "        vertical-align: middle;\n",
       "    }\n",
       "\n",
       "    .dataframe tbody tr th {\n",
       "        vertical-align: top;\n",
       "    }\n",
       "\n",
       "    .dataframe thead th {\n",
       "        text-align: right;\n",
       "    }\n",
       "</style>\n",
       "<table border=\"1\" class=\"dataframe\">\n",
       "  <thead>\n",
       "    <tr style=\"text-align: right;\">\n",
       "      <th></th>\n",
       "      <th>artist</th>\n",
       "      <th>song</th>\n",
       "      <th>danceability</th>\n",
       "      <th>energy</th>\n",
       "      <th>key</th>\n",
       "      <th>loudness</th>\n",
       "      <th>mode</th>\n",
       "      <th>speechiness</th>\n",
       "      <th>acousticness</th>\n",
       "      <th>instrumentalness</th>\n",
       "      <th>liveness</th>\n",
       "      <th>valence</th>\n",
       "      <th>tempo</th>\n",
       "      <th>type</th>\n",
       "      <th>id</th>\n",
       "      <th>uri</th>\n",
       "      <th>track_href</th>\n",
       "      <th>analysis_url</th>\n",
       "      <th>duration_ms</th>\n",
       "      <th>time_signature</th>\n",
       "    </tr>\n",
       "  </thead>\n",
       "  <tbody>\n",
       "    <tr>\n",
       "      <th>0</th>\n",
       "      <td>Khalid</td>\n",
       "      <td>Let's Go</td>\n",
       "      <td>0.780</td>\n",
       "      <td>0.371</td>\n",
       "      <td>9</td>\n",
       "      <td>-6.705</td>\n",
       "      <td>1</td>\n",
       "      <td>0.0559</td>\n",
       "      <td>0.5720</td>\n",
       "      <td>0.000000</td>\n",
       "      <td>0.247</td>\n",
       "      <td>0.430</td>\n",
       "      <td>108.003</td>\n",
       "      <td>audio_features</td>\n",
       "      <td>6AIccJIWHGK26xi34FAkwl</td>\n",
       "      <td>spotify:track:6AIccJIWHGK26xi34FAkwl</td>\n",
       "      <td>https://api.spotify.com/v1/tracks/6AIccJIWHGK2...</td>\n",
       "      <td>https://api.spotify.com/v1/audio-analysis/6AIc...</td>\n",
       "      <td>204547</td>\n",
       "      <td>4</td>\n",
       "    </tr>\n",
       "    <tr>\n",
       "      <th>1</th>\n",
       "      <td>Chance the Rapper</td>\n",
       "      <td>Smoke Break (feat. Future)</td>\n",
       "      <td>0.705</td>\n",
       "      <td>0.453</td>\n",
       "      <td>3</td>\n",
       "      <td>-8.174</td>\n",
       "      <td>1</td>\n",
       "      <td>0.1960</td>\n",
       "      <td>0.2570</td>\n",
       "      <td>0.000000</td>\n",
       "      <td>0.143</td>\n",
       "      <td>0.283</td>\n",
       "      <td>124.942</td>\n",
       "      <td>audio_features</td>\n",
       "      <td>1Uq3IOIy1CUlHUgP6vWpum</td>\n",
       "      <td>spotify:track:1Uq3IOIy1CUlHUgP6vWpum</td>\n",
       "      <td>https://api.spotify.com/v1/tracks/1Uq3IOIy1CUl...</td>\n",
       "      <td>https://api.spotify.com/v1/audio-analysis/1Uq3...</td>\n",
       "      <td>226494</td>\n",
       "      <td>4</td>\n",
       "    </tr>\n",
       "    <tr>\n",
       "      <th>2</th>\n",
       "      <td>Ariana Grande</td>\n",
       "      <td>Side To Side</td>\n",
       "      <td>0.650</td>\n",
       "      <td>0.736</td>\n",
       "      <td>6</td>\n",
       "      <td>-5.840</td>\n",
       "      <td>0</td>\n",
       "      <td>0.2290</td>\n",
       "      <td>0.0528</td>\n",
       "      <td>0.000000</td>\n",
       "      <td>0.235</td>\n",
       "      <td>0.613</td>\n",
       "      <td>159.173</td>\n",
       "      <td>audio_features</td>\n",
       "      <td>1pKeFVVUOPjFsOABub0OaV</td>\n",
       "      <td>spotify:track:1pKeFVVUOPjFsOABub0OaV</td>\n",
       "      <td>https://api.spotify.com/v1/tracks/1pKeFVVUOPjF...</td>\n",
       "      <td>https://api.spotify.com/v1/audio-analysis/1pKe...</td>\n",
       "      <td>226160</td>\n",
       "      <td>4</td>\n",
       "    </tr>\n",
       "    <tr>\n",
       "      <th>3</th>\n",
       "      <td>The Weeknd</td>\n",
       "      <td>Die For You</td>\n",
       "      <td>0.582</td>\n",
       "      <td>0.525</td>\n",
       "      <td>1</td>\n",
       "      <td>-7.163</td>\n",
       "      <td>0</td>\n",
       "      <td>0.0627</td>\n",
       "      <td>0.1110</td>\n",
       "      <td>0.000000</td>\n",
       "      <td>0.134</td>\n",
       "      <td>0.510</td>\n",
       "      <td>133.249</td>\n",
       "      <td>audio_features</td>\n",
       "      <td>2Ch7LmS7r2Gy2kc64wv3Bz</td>\n",
       "      <td>spotify:track:2Ch7LmS7r2Gy2kc64wv3Bz</td>\n",
       "      <td>https://api.spotify.com/v1/tracks/2Ch7LmS7r2Gy...</td>\n",
       "      <td>https://api.spotify.com/v1/audio-analysis/2Ch7...</td>\n",
       "      <td>260253</td>\n",
       "      <td>4</td>\n",
       "    </tr>\n",
       "    <tr>\n",
       "      <th>4</th>\n",
       "      <td>Madison Beer</td>\n",
       "      <td>Something Sweet</td>\n",
       "      <td>0.622</td>\n",
       "      <td>0.791</td>\n",
       "      <td>9</td>\n",
       "      <td>-5.010</td>\n",
       "      <td>0</td>\n",
       "      <td>0.0377</td>\n",
       "      <td>0.1820</td>\n",
       "      <td>0.000003</td>\n",
       "      <td>0.245</td>\n",
       "      <td>0.647</td>\n",
       "      <td>99.979</td>\n",
       "      <td>audio_features</td>\n",
       "      <td>3PlM3biKS6ZUIHojCJmElE</td>\n",
       "      <td>spotify:track:3PlM3biKS6ZUIHojCJmElE</td>\n",
       "      <td>https://api.spotify.com/v1/tracks/3PlM3biKS6ZU...</td>\n",
       "      <td>https://api.spotify.com/v1/audio-analysis/3PlM...</td>\n",
       "      <td>195560</td>\n",
       "      <td>4</td>\n",
       "    </tr>\n",
       "  </tbody>\n",
       "</table>\n",
       "</div>"
      ],
      "text/plain": [
       "              artist                        song  danceability  energy  key  \\\n",
       "0             Khalid                    Let's Go         0.780   0.371    9   \n",
       "1  Chance the Rapper  Smoke Break (feat. Future)         0.705   0.453    3   \n",
       "2      Ariana Grande                Side To Side         0.650   0.736    6   \n",
       "3         The Weeknd                 Die For You         0.582   0.525    1   \n",
       "4       Madison Beer             Something Sweet         0.622   0.791    9   \n",
       "\n",
       "   loudness  mode  speechiness  acousticness  instrumentalness  liveness  \\\n",
       "0    -6.705     1       0.0559        0.5720          0.000000     0.247   \n",
       "1    -8.174     1       0.1960        0.2570          0.000000     0.143   \n",
       "2    -5.840     0       0.2290        0.0528          0.000000     0.235   \n",
       "3    -7.163     0       0.0627        0.1110          0.000000     0.134   \n",
       "4    -5.010     0       0.0377        0.1820          0.000003     0.245   \n",
       "\n",
       "   valence    tempo            type                      id  \\\n",
       "0    0.430  108.003  audio_features  6AIccJIWHGK26xi34FAkwl   \n",
       "1    0.283  124.942  audio_features  1Uq3IOIy1CUlHUgP6vWpum   \n",
       "2    0.613  159.173  audio_features  1pKeFVVUOPjFsOABub0OaV   \n",
       "3    0.510  133.249  audio_features  2Ch7LmS7r2Gy2kc64wv3Bz   \n",
       "4    0.647   99.979  audio_features  3PlM3biKS6ZUIHojCJmElE   \n",
       "\n",
       "                                    uri  \\\n",
       "0  spotify:track:6AIccJIWHGK26xi34FAkwl   \n",
       "1  spotify:track:1Uq3IOIy1CUlHUgP6vWpum   \n",
       "2  spotify:track:1pKeFVVUOPjFsOABub0OaV   \n",
       "3  spotify:track:2Ch7LmS7r2Gy2kc64wv3Bz   \n",
       "4  spotify:track:3PlM3biKS6ZUIHojCJmElE   \n",
       "\n",
       "                                          track_href  \\\n",
       "0  https://api.spotify.com/v1/tracks/6AIccJIWHGK2...   \n",
       "1  https://api.spotify.com/v1/tracks/1Uq3IOIy1CUl...   \n",
       "2  https://api.spotify.com/v1/tracks/1pKeFVVUOPjF...   \n",
       "3  https://api.spotify.com/v1/tracks/2Ch7LmS7r2Gy...   \n",
       "4  https://api.spotify.com/v1/tracks/3PlM3biKS6ZU...   \n",
       "\n",
       "                                        analysis_url  duration_ms  \\\n",
       "0  https://api.spotify.com/v1/audio-analysis/6AIc...       204547   \n",
       "1  https://api.spotify.com/v1/audio-analysis/1Uq3...       226494   \n",
       "2  https://api.spotify.com/v1/audio-analysis/1pKe...       226160   \n",
       "3  https://api.spotify.com/v1/audio-analysis/2Ch7...       260253   \n",
       "4  https://api.spotify.com/v1/audio-analysis/3PlM...       195560   \n",
       "\n",
       "   time_signature  \n",
       "0               4  \n",
       "1               4  \n",
       "2               4  \n",
       "3               4  \n",
       "4               4  "
      ]
     },
     "metadata": {},
     "output_type": "display_data"
    },
    {
     "data": {
      "text/plain": [
       "(2742, 20)"
      ]
     },
     "metadata": {},
     "output_type": "display_data"
    }
   ],
   "source": [
    "display(spotify_df_5.head())\n",
    "display(spotify_df_5.shape)"
   ]
  },
  {
   "cell_type": "markdown",
   "id": "6e3d3f5e",
   "metadata": {},
   "source": [
    "### Adding a sixth playlist"
   ]
  },
  {
   "cell_type": "code",
   "execution_count": 88,
   "id": "7ab5818b",
   "metadata": {},
   "outputs": [],
   "source": [
    "all_tracks_6 = get_playlist_tracks(\"1DG8jE9e1QeJU9xfuU7KEv\")"
   ]
  },
  {
   "cell_type": "code",
   "execution_count": 89,
   "id": "5c62ffca",
   "metadata": {},
   "outputs": [
    {
     "data": {
      "text/plain": [
       "1582"
      ]
     },
     "execution_count": 89,
     "metadata": {},
     "output_type": "execute_result"
    }
   ],
   "source": [
    "len(all_tracks_6)"
   ]
  },
  {
   "cell_type": "code",
   "execution_count": 90,
   "id": "a2442fb3",
   "metadata": {},
   "outputs": [],
   "source": [
    "spotify_df_6=playlist_to_df(all_tracks_6)"
   ]
  },
  {
   "cell_type": "code",
   "execution_count": null,
   "id": "e59d786e",
   "metadata": {},
   "outputs": [],
   "source": []
  },
  {
   "cell_type": "markdown",
   "id": "e296960a",
   "metadata": {},
   "source": [
    "### Adding a seventh playlist"
   ]
  },
  {
   "cell_type": "code",
   "execution_count": 91,
   "id": "c555acd5",
   "metadata": {},
   "outputs": [],
   "source": [
    "all_tracks_7 = get_playlist_tracks(\"3ANGJ9boEGZkOzCx5D1LRA\")"
   ]
  },
  {
   "cell_type": "code",
   "execution_count": 92,
   "id": "569030dd",
   "metadata": {},
   "outputs": [
    {
     "data": {
      "text/plain": [
       "290"
      ]
     },
     "execution_count": 92,
     "metadata": {},
     "output_type": "execute_result"
    }
   ],
   "source": [
    "len(all_tracks_7)"
   ]
  },
  {
   "cell_type": "code",
   "execution_count": 93,
   "id": "b51356f6",
   "metadata": {},
   "outputs": [],
   "source": [
    "spotify_df_7=playlist_to_df(all_tracks_7)"
   ]
  },
  {
   "cell_type": "code",
   "execution_count": null,
   "id": "29e66609",
   "metadata": {},
   "outputs": [],
   "source": []
  },
  {
   "cell_type": "markdown",
   "id": "410dc274",
   "metadata": {},
   "source": [
    "### Adding a eight playlist"
   ]
  },
  {
   "cell_type": "code",
   "execution_count": 94,
   "id": "bb60e41f",
   "metadata": {},
   "outputs": [],
   "source": [
    "all_tracks_8 = get_playlist_tracks(\"7v2bpIgH3Yk6CQbpp3YXKu\")"
   ]
  },
  {
   "cell_type": "code",
   "execution_count": 95,
   "id": "ef9a5b43",
   "metadata": {},
   "outputs": [
    {
     "data": {
      "text/plain": [
       "2121"
      ]
     },
     "execution_count": 95,
     "metadata": {},
     "output_type": "execute_result"
    }
   ],
   "source": [
    "len(all_tracks_8)"
   ]
  },
  {
   "cell_type": "code",
   "execution_count": 96,
   "id": "240373d9",
   "metadata": {},
   "outputs": [],
   "source": [
    "spotify_df_8=playlist_to_df(all_tracks_8)"
   ]
  },
  {
   "cell_type": "code",
   "execution_count": null,
   "id": "99c022fc",
   "metadata": {},
   "outputs": [],
   "source": []
  },
  {
   "cell_type": "markdown",
   "id": "792416d8",
   "metadata": {},
   "source": [
    "### Adding a nineth playlist"
   ]
  },
  {
   "cell_type": "code",
   "execution_count": 97,
   "id": "bfd1ecf3",
   "metadata": {},
   "outputs": [],
   "source": [
    "all_tracks_9 = get_playlist_tracks(\"37i9dQZF1E8Lk8LqShtYPE\")"
   ]
  },
  {
   "cell_type": "code",
   "execution_count": 98,
   "id": "c068bc25",
   "metadata": {},
   "outputs": [
    {
     "data": {
      "text/plain": [
       "50"
      ]
     },
     "execution_count": 98,
     "metadata": {},
     "output_type": "execute_result"
    }
   ],
   "source": [
    "len(all_tracks_9)"
   ]
  },
  {
   "cell_type": "code",
   "execution_count": 99,
   "id": "059c6b61",
   "metadata": {},
   "outputs": [],
   "source": [
    "spotify_df_9=playlist_to_df(all_tracks_9)"
   ]
  },
  {
   "cell_type": "code",
   "execution_count": null,
   "id": "afe1ebd2",
   "metadata": {},
   "outputs": [],
   "source": []
  },
  {
   "cell_type": "markdown",
   "id": "1ee17d08",
   "metadata": {},
   "source": [
    "### Adding a tenth playlist"
   ]
  },
  {
   "cell_type": "code",
   "execution_count": 100,
   "id": "ee711ce7",
   "metadata": {},
   "outputs": [],
   "source": [
    "all_tracks_10 = get_playlist_tracks(\"2wb9pCHSxGuVLYHsUBAjnR\")"
   ]
  },
  {
   "cell_type": "code",
   "execution_count": 101,
   "id": "fc3dc3fb",
   "metadata": {},
   "outputs": [
    {
     "data": {
      "text/plain": [
       "318"
      ]
     },
     "execution_count": 101,
     "metadata": {},
     "output_type": "execute_result"
    }
   ],
   "source": [
    "len(all_tracks_10)"
   ]
  },
  {
   "cell_type": "code",
   "execution_count": 102,
   "id": "7db73457",
   "metadata": {},
   "outputs": [],
   "source": [
    "spotify_df_10=playlist_to_df(all_tracks_10)"
   ]
  },
  {
   "cell_type": "code",
   "execution_count": null,
   "id": "f3aa284d",
   "metadata": {},
   "outputs": [],
   "source": []
  },
  {
   "cell_type": "markdown",
   "id": "ee9d23af",
   "metadata": {},
   "source": [
    "### Adding a eleventh playlist"
   ]
  },
  {
   "cell_type": "code",
   "execution_count": 103,
   "id": "6f53d051",
   "metadata": {},
   "outputs": [],
   "source": [
    "all_tracks_11 = get_playlist_tracks(\"5oKz4DsTP8zbL97UIPbqp4\")"
   ]
  },
  {
   "cell_type": "code",
   "execution_count": 104,
   "id": "fbe4178f",
   "metadata": {},
   "outputs": [
    {
     "data": {
      "text/plain": [
       "434"
      ]
     },
     "execution_count": 104,
     "metadata": {},
     "output_type": "execute_result"
    }
   ],
   "source": [
    "len(all_tracks_11)"
   ]
  },
  {
   "cell_type": "code",
   "execution_count": 105,
   "id": "dc00fadf",
   "metadata": {},
   "outputs": [],
   "source": [
    "spotify_df_11=playlist_to_df(all_tracks_11)"
   ]
  },
  {
   "cell_type": "code",
   "execution_count": null,
   "id": "22a10db9",
   "metadata": {},
   "outputs": [],
   "source": []
  },
  {
   "cell_type": "code",
   "execution_count": null,
   "id": "125b82c6",
   "metadata": {},
   "outputs": [],
   "source": []
  },
  {
   "cell_type": "markdown",
   "id": "49be1a88",
   "metadata": {},
   "source": [
    "### Adding a twelfth playlist"
   ]
  },
  {
   "cell_type": "code",
   "execution_count": 106,
   "id": "a582e1a5",
   "metadata": {},
   "outputs": [],
   "source": [
    "all_tracks_12 = get_playlist_tracks(\"37i9dQZF1DWVAa4Dwc5f7L\")"
   ]
  },
  {
   "cell_type": "code",
   "execution_count": 107,
   "id": "90529da9",
   "metadata": {},
   "outputs": [
    {
     "data": {
      "text/plain": [
       "100"
      ]
     },
     "execution_count": 107,
     "metadata": {},
     "output_type": "execute_result"
    }
   ],
   "source": [
    "len(all_tracks_12)"
   ]
  },
  {
   "cell_type": "code",
   "execution_count": 108,
   "id": "da0bd939",
   "metadata": {},
   "outputs": [],
   "source": [
    "spotify_df_12=playlist_to_df(all_tracks_12)"
   ]
  },
  {
   "cell_type": "code",
   "execution_count": null,
   "id": "37aed6e6",
   "metadata": {},
   "outputs": [],
   "source": []
  },
  {
   "cell_type": "markdown",
   "id": "b635012d",
   "metadata": {},
   "source": [
    "### Adding a 13th playlist"
   ]
  },
  {
   "cell_type": "code",
   "execution_count": 109,
   "id": "6bc181d6",
   "metadata": {},
   "outputs": [],
   "source": [
    "all_tracks_13 = get_playlist_tracks(\"2PjVPkj4a9kBvQIXaZ6UUt\")"
   ]
  },
  {
   "cell_type": "code",
   "execution_count": 110,
   "id": "48875164",
   "metadata": {},
   "outputs": [
    {
     "data": {
      "text/plain": [
       "84"
      ]
     },
     "execution_count": 110,
     "metadata": {},
     "output_type": "execute_result"
    }
   ],
   "source": [
    "len(all_tracks_13)"
   ]
  },
  {
   "cell_type": "code",
   "execution_count": 111,
   "id": "91f8b353",
   "metadata": {},
   "outputs": [],
   "source": [
    "spotify_df_13=playlist_to_df(all_tracks_13)"
   ]
  },
  {
   "cell_type": "code",
   "execution_count": null,
   "id": "67a36073",
   "metadata": {},
   "outputs": [],
   "source": []
  },
  {
   "cell_type": "markdown",
   "id": "aabb25bf",
   "metadata": {},
   "source": [
    "### Adding a 14th playlist"
   ]
  },
  {
   "cell_type": "code",
   "execution_count": 112,
   "id": "f726e9fc",
   "metadata": {},
   "outputs": [],
   "source": [
    "all_tracks_14 = get_playlist_tracks(\"1CAT5I8rHPpvK33UONeKAP\")"
   ]
  },
  {
   "cell_type": "code",
   "execution_count": 113,
   "id": "e148d908",
   "metadata": {},
   "outputs": [
    {
     "data": {
      "text/plain": [
       "83"
      ]
     },
     "execution_count": 113,
     "metadata": {},
     "output_type": "execute_result"
    }
   ],
   "source": [
    "len(all_tracks_14)"
   ]
  },
  {
   "cell_type": "code",
   "execution_count": 114,
   "id": "b3f07666",
   "metadata": {},
   "outputs": [],
   "source": [
    "spotify_df_14=playlist_to_df(all_tracks_14)"
   ]
  },
  {
   "cell_type": "code",
   "execution_count": null,
   "id": "9e2cfb29",
   "metadata": {},
   "outputs": [],
   "source": []
  },
  {
   "cell_type": "markdown",
   "id": "983cda46",
   "metadata": {},
   "source": [
    "### Adding a 15th playlist"
   ]
  },
  {
   "cell_type": "code",
   "execution_count": 115,
   "id": "cb12912f",
   "metadata": {},
   "outputs": [],
   "source": [
    "all_tracks_15 = get_playlist_tracks(\"37i9dQZF1DWZLN2cXno63R\")"
   ]
  },
  {
   "cell_type": "code",
   "execution_count": 116,
   "id": "61abd3d1",
   "metadata": {},
   "outputs": [
    {
     "data": {
      "text/plain": [
       "62"
      ]
     },
     "execution_count": 116,
     "metadata": {},
     "output_type": "execute_result"
    }
   ],
   "source": [
    "len(all_tracks_15)"
   ]
  },
  {
   "cell_type": "code",
   "execution_count": 117,
   "id": "b8ab0461",
   "metadata": {},
   "outputs": [],
   "source": [
    "spotify_df_15=playlist_to_df(all_tracks_15)"
   ]
  },
  {
   "cell_type": "code",
   "execution_count": null,
   "id": "65c850f1",
   "metadata": {},
   "outputs": [],
   "source": []
  },
  {
   "cell_type": "markdown",
   "id": "64a882ae",
   "metadata": {},
   "source": [
    "### Adding a 16th playlist"
   ]
  },
  {
   "cell_type": "code",
   "execution_count": 118,
   "id": "6cfcf465",
   "metadata": {},
   "outputs": [],
   "source": [
    "all_tracks_16 = get_playlist_tracks(\"37i9dQZF1DZ06evO343CE2\")"
   ]
  },
  {
   "cell_type": "code",
   "execution_count": 119,
   "id": "8424520b",
   "metadata": {},
   "outputs": [
    {
     "data": {
      "text/plain": [
       "50"
      ]
     },
     "execution_count": 119,
     "metadata": {},
     "output_type": "execute_result"
    }
   ],
   "source": [
    "len(all_tracks_16)"
   ]
  },
  {
   "cell_type": "code",
   "execution_count": 120,
   "id": "a16dd3cb",
   "metadata": {},
   "outputs": [],
   "source": [
    "spotify_df_16=playlist_to_df(all_tracks_16)"
   ]
  },
  {
   "cell_type": "code",
   "execution_count": null,
   "id": "e9ef497c",
   "metadata": {},
   "outputs": [],
   "source": []
  },
  {
   "cell_type": "markdown",
   "id": "f273e1b1",
   "metadata": {},
   "source": [
    "### Adding a 17th playlist"
   ]
  },
  {
   "cell_type": "code",
   "execution_count": 121,
   "id": "5e275891",
   "metadata": {},
   "outputs": [],
   "source": [
    "all_tracks_17 = get_playlist_tracks(\"37i9dQZF1DWWPg9Mo6aXVl\")"
   ]
  },
  {
   "cell_type": "code",
   "execution_count": 122,
   "id": "d8ce9cbb",
   "metadata": {},
   "outputs": [
    {
     "data": {
      "text/plain": [
       "100"
      ]
     },
     "execution_count": 122,
     "metadata": {},
     "output_type": "execute_result"
    }
   ],
   "source": [
    "len(all_tracks_17)"
   ]
  },
  {
   "cell_type": "code",
   "execution_count": 123,
   "id": "681c345c",
   "metadata": {},
   "outputs": [],
   "source": [
    "spotify_df_17=playlist_to_df(all_tracks_17)"
   ]
  },
  {
   "cell_type": "code",
   "execution_count": null,
   "id": "5985e6b2",
   "metadata": {},
   "outputs": [],
   "source": []
  },
  {
   "cell_type": "code",
   "execution_count": null,
   "id": "1dd1507f",
   "metadata": {},
   "outputs": [],
   "source": []
  },
  {
   "cell_type": "markdown",
   "id": "c8aac981",
   "metadata": {},
   "source": [
    "### Adding a 18th playlist"
   ]
  },
  {
   "cell_type": "code",
   "execution_count": 124,
   "id": "7cf28675",
   "metadata": {},
   "outputs": [],
   "source": [
    "all_tracks_18 = get_playlist_tracks(\"5GzKZGlIbWhyfs9vUvrpIU\")"
   ]
  },
  {
   "cell_type": "code",
   "execution_count": 125,
   "id": "ff0bc645",
   "metadata": {},
   "outputs": [
    {
     "data": {
      "text/plain": [
       "66"
      ]
     },
     "execution_count": 125,
     "metadata": {},
     "output_type": "execute_result"
    }
   ],
   "source": [
    "len(all_tracks_18)"
   ]
  },
  {
   "cell_type": "code",
   "execution_count": 126,
   "id": "64fa90d4",
   "metadata": {},
   "outputs": [],
   "source": [
    "spotify_df_18=playlist_to_df(all_tracks_18)"
   ]
  },
  {
   "cell_type": "code",
   "execution_count": null,
   "id": "5b453114",
   "metadata": {},
   "outputs": [],
   "source": []
  },
  {
   "cell_type": "code",
   "execution_count": null,
   "id": "c340f9b4",
   "metadata": {},
   "outputs": [],
   "source": []
  },
  {
   "cell_type": "markdown",
   "id": "96f5bc66",
   "metadata": {},
   "source": [
    "### Adding a 19th playlist"
   ]
  },
  {
   "cell_type": "code",
   "execution_count": 127,
   "id": "b18a1b39",
   "metadata": {},
   "outputs": [],
   "source": [
    "all_tracks_19 = get_playlist_tracks(\"6ttaSnMvNlLeNf2hC8p6f2\")"
   ]
  },
  {
   "cell_type": "code",
   "execution_count": 128,
   "id": "8d2c341e",
   "metadata": {},
   "outputs": [
    {
     "data": {
      "text/plain": [
       "212"
      ]
     },
     "execution_count": 128,
     "metadata": {},
     "output_type": "execute_result"
    }
   ],
   "source": [
    "len(all_tracks_19)"
   ]
  },
  {
   "cell_type": "code",
   "execution_count": 129,
   "id": "6f16a6d8",
   "metadata": {},
   "outputs": [],
   "source": [
    "spotify_df_19=playlist_to_df(all_tracks_19)"
   ]
  },
  {
   "cell_type": "code",
   "execution_count": null,
   "id": "ec038734",
   "metadata": {},
   "outputs": [],
   "source": []
  },
  {
   "cell_type": "code",
   "execution_count": null,
   "id": "bfb1c96f",
   "metadata": {},
   "outputs": [],
   "source": []
  },
  {
   "cell_type": "markdown",
   "id": "03df416e",
   "metadata": {},
   "source": [
    "### Adding a 20th playlist"
   ]
  },
  {
   "cell_type": "code",
   "execution_count": 130,
   "id": "fd9eb553",
   "metadata": {},
   "outputs": [],
   "source": [
    "all_tracks_20 = get_playlist_tracks(\"4gohFBGkxw3Cr8S4e3gPJr\")"
   ]
  },
  {
   "cell_type": "code",
   "execution_count": 131,
   "id": "8ff14615",
   "metadata": {},
   "outputs": [
    {
     "data": {
      "text/plain": [
       "174"
      ]
     },
     "execution_count": 131,
     "metadata": {},
     "output_type": "execute_result"
    }
   ],
   "source": [
    "len(all_tracks_20)"
   ]
  },
  {
   "cell_type": "code",
   "execution_count": 132,
   "id": "9ca52097",
   "metadata": {},
   "outputs": [],
   "source": [
    "spotify_df_20=playlist_to_df(all_tracks_20)"
   ]
  },
  {
   "cell_type": "code",
   "execution_count": null,
   "id": "1fb8fccd",
   "metadata": {},
   "outputs": [],
   "source": []
  },
  {
   "cell_type": "code",
   "execution_count": null,
   "id": "87e52c0c",
   "metadata": {},
   "outputs": [],
   "source": []
  },
  {
   "cell_type": "markdown",
   "id": "193704c3",
   "metadata": {},
   "source": [
    "### Adding a 21st playlist"
   ]
  },
  {
   "cell_type": "code",
   "execution_count": 133,
   "id": "823880d9",
   "metadata": {},
   "outputs": [],
   "source": [
    "all_tracks_21 = get_playlist_tracks(\"5wc7UIul4pdHmP8d1KMjVJ\")"
   ]
  },
  {
   "cell_type": "code",
   "execution_count": 134,
   "id": "3642aa2c",
   "metadata": {},
   "outputs": [
    {
     "data": {
      "text/plain": [
       "224"
      ]
     },
     "execution_count": 134,
     "metadata": {},
     "output_type": "execute_result"
    }
   ],
   "source": [
    "len(all_tracks_21)"
   ]
  },
  {
   "cell_type": "code",
   "execution_count": 135,
   "id": "bb124c9c",
   "metadata": {},
   "outputs": [],
   "source": [
    "spotify_df_21=playlist_to_df(all_tracks_21)"
   ]
  },
  {
   "cell_type": "code",
   "execution_count": null,
   "id": "c305036d",
   "metadata": {},
   "outputs": [],
   "source": []
  },
  {
   "cell_type": "code",
   "execution_count": null,
   "id": "84d4803e",
   "metadata": {},
   "outputs": [],
   "source": []
  },
  {
   "cell_type": "markdown",
   "id": "312f17d9",
   "metadata": {},
   "source": [
    "### Adding a 22nd playlist"
   ]
  },
  {
   "cell_type": "code",
   "execution_count": 136,
   "id": "6c0c65b7",
   "metadata": {},
   "outputs": [],
   "source": [
    "all_tracks_22 = get_playlist_tracks(\"1h0CEZCm6IbFTbxThn6Xcs\")"
   ]
  },
  {
   "cell_type": "code",
   "execution_count": 137,
   "id": "69163fe8",
   "metadata": {},
   "outputs": [
    {
     "data": {
      "text/plain": [
       "166"
      ]
     },
     "execution_count": 137,
     "metadata": {},
     "output_type": "execute_result"
    }
   ],
   "source": [
    "len(all_tracks_22)"
   ]
  },
  {
   "cell_type": "code",
   "execution_count": 138,
   "id": "e2ae2f3b",
   "metadata": {},
   "outputs": [],
   "source": [
    "spotify_df_22=playlist_to_df(all_tracks_22)"
   ]
  },
  {
   "cell_type": "code",
   "execution_count": null,
   "id": "aa0e01d1",
   "metadata": {},
   "outputs": [],
   "source": []
  },
  {
   "cell_type": "markdown",
   "id": "ef944ae6",
   "metadata": {},
   "source": [
    "### Adding a 23rd playlist"
   ]
  },
  {
   "cell_type": "code",
   "execution_count": 139,
   "id": "830a4118",
   "metadata": {},
   "outputs": [],
   "source": [
    "all_tracks_23 = get_playlist_tracks(\"2A59Os98FB0oVDb2xY3N9T\")"
   ]
  },
  {
   "cell_type": "code",
   "execution_count": 140,
   "id": "82b5cd65",
   "metadata": {},
   "outputs": [
    {
     "data": {
      "text/plain": [
       "309"
      ]
     },
     "execution_count": 140,
     "metadata": {},
     "output_type": "execute_result"
    }
   ],
   "source": [
    "len(all_tracks_23)"
   ]
  },
  {
   "cell_type": "code",
   "execution_count": 141,
   "id": "f4f2e165",
   "metadata": {},
   "outputs": [],
   "source": [
    "spotify_df_23=playlist_to_df(all_tracks_23)"
   ]
  },
  {
   "cell_type": "code",
   "execution_count": null,
   "id": "cb6a7a5c",
   "metadata": {},
   "outputs": [],
   "source": []
  },
  {
   "cell_type": "code",
   "execution_count": null,
   "id": "46715d22",
   "metadata": {},
   "outputs": [],
   "source": []
  },
  {
   "cell_type": "markdown",
   "id": "8cf0678b",
   "metadata": {},
   "source": [
    "### Concatenating the dataframes"
   ]
  },
  {
   "cell_type": "code",
   "execution_count": 142,
   "id": "24886c40",
   "metadata": {},
   "outputs": [],
   "source": [
    "spotify_df = pd.concat([spotify_df_1, spotify_df_2, spotify_df_3, spotify_df_4, spotify_df_5,\n",
    "                       spotify_df_6, spotify_df_7, spotify_df_8, spotify_df_9,spotify_df_10,\n",
    "                       spotify_df_11, spotify_df_12, spotify_df_13,spotify_df_14, spotify_df_15,\n",
    "                       spotify_df_16, spotify_df_17, spotify_df_18, spotify_df_19, spotify_df_20,\n",
    "                       spotify_df_21, spotify_df_22, spotify_df_23], axis=0)"
   ]
  },
  {
   "cell_type": "code",
   "execution_count": 143,
   "id": "cff4a878",
   "metadata": {},
   "outputs": [
    {
     "data": {
      "text/html": [
       "<div>\n",
       "<style scoped>\n",
       "    .dataframe tbody tr th:only-of-type {\n",
       "        vertical-align: middle;\n",
       "    }\n",
       "\n",
       "    .dataframe tbody tr th {\n",
       "        vertical-align: top;\n",
       "    }\n",
       "\n",
       "    .dataframe thead th {\n",
       "        text-align: right;\n",
       "    }\n",
       "</style>\n",
       "<table border=\"1\" class=\"dataframe\">\n",
       "  <thead>\n",
       "    <tr style=\"text-align: right;\">\n",
       "      <th></th>\n",
       "      <th>artist</th>\n",
       "      <th>song</th>\n",
       "      <th>danceability</th>\n",
       "      <th>energy</th>\n",
       "      <th>key</th>\n",
       "      <th>loudness</th>\n",
       "      <th>mode</th>\n",
       "      <th>speechiness</th>\n",
       "      <th>acousticness</th>\n",
       "      <th>instrumentalness</th>\n",
       "      <th>liveness</th>\n",
       "      <th>valence</th>\n",
       "      <th>tempo</th>\n",
       "      <th>type</th>\n",
       "      <th>id</th>\n",
       "      <th>uri</th>\n",
       "      <th>track_href</th>\n",
       "      <th>analysis_url</th>\n",
       "      <th>duration_ms</th>\n",
       "      <th>time_signature</th>\n",
       "    </tr>\n",
       "  </thead>\n",
       "  <tbody>\n",
       "    <tr>\n",
       "      <th>0</th>\n",
       "      <td>John Lennon</td>\n",
       "      <td>Imagine - Remastered 2010</td>\n",
       "      <td>0.547</td>\n",
       "      <td>0.257</td>\n",
       "      <td>0</td>\n",
       "      <td>-12.358</td>\n",
       "      <td>1</td>\n",
       "      <td>0.0252</td>\n",
       "      <td>0.907</td>\n",
       "      <td>0.1830</td>\n",
       "      <td>0.0935</td>\n",
       "      <td>0.169</td>\n",
       "      <td>75.752</td>\n",
       "      <td>audio_features</td>\n",
       "      <td>7pKfPomDEeI4TPT6EOYjn9</td>\n",
       "      <td>spotify:track:7pKfPomDEeI4TPT6EOYjn9</td>\n",
       "      <td>https://api.spotify.com/v1/tracks/7pKfPomDEeI4...</td>\n",
       "      <td>https://api.spotify.com/v1/audio-analysis/7pKf...</td>\n",
       "      <td>187867</td>\n",
       "      <td>4</td>\n",
       "    </tr>\n",
       "    <tr>\n",
       "      <th>1</th>\n",
       "      <td>Procol Harum</td>\n",
       "      <td>A Whiter Shade Of Pale</td>\n",
       "      <td>0.249</td>\n",
       "      <td>0.660</td>\n",
       "      <td>0</td>\n",
       "      <td>-6.905</td>\n",
       "      <td>1</td>\n",
       "      <td>0.0342</td>\n",
       "      <td>0.504</td>\n",
       "      <td>0.0026</td>\n",
       "      <td>0.0891</td>\n",
       "      <td>0.435</td>\n",
       "      <td>149.813</td>\n",
       "      <td>audio_features</td>\n",
       "      <td>3qitymULqEibr7yknRMKU4</td>\n",
       "      <td>spotify:track:3qitymULqEibr7yknRMKU4</td>\n",
       "      <td>https://api.spotify.com/v1/tracks/3qitymULqEib...</td>\n",
       "      <td>https://api.spotify.com/v1/audio-analysis/3qit...</td>\n",
       "      <td>248947</td>\n",
       "      <td>4</td>\n",
       "    </tr>\n",
       "    <tr>\n",
       "      <th>2</th>\n",
       "      <td>Queen</td>\n",
       "      <td>Bohemian Rhapsody - Remastered 2011</td>\n",
       "      <td>0.414</td>\n",
       "      <td>0.404</td>\n",
       "      <td>0</td>\n",
       "      <td>-9.928</td>\n",
       "      <td>0</td>\n",
       "      <td>0.0499</td>\n",
       "      <td>0.271</td>\n",
       "      <td>0.0000</td>\n",
       "      <td>0.3000</td>\n",
       "      <td>0.224</td>\n",
       "      <td>71.105</td>\n",
       "      <td>audio_features</td>\n",
       "      <td>1AhDOtG9vPSOmsWgNW0BEY</td>\n",
       "      <td>spotify:track:1AhDOtG9vPSOmsWgNW0BEY</td>\n",
       "      <td>https://api.spotify.com/v1/tracks/1AhDOtG9vPSO...</td>\n",
       "      <td>https://api.spotify.com/v1/audio-analysis/1AhD...</td>\n",
       "      <td>354320</td>\n",
       "      <td>4</td>\n",
       "    </tr>\n",
       "    <tr>\n",
       "      <th>3</th>\n",
       "      <td>Pink Floyd</td>\n",
       "      <td>Comfortably Numb - 2011 Remastered Version</td>\n",
       "      <td>0.472</td>\n",
       "      <td>0.366</td>\n",
       "      <td>11</td>\n",
       "      <td>-12.595</td>\n",
       "      <td>0</td>\n",
       "      <td>0.0286</td>\n",
       "      <td>0.150</td>\n",
       "      <td>0.3080</td>\n",
       "      <td>0.0837</td>\n",
       "      <td>0.171</td>\n",
       "      <td>127.167</td>\n",
       "      <td>audio_features</td>\n",
       "      <td>082cLCIXNPg2ruTrENz4Vt</td>\n",
       "      <td>spotify:track:082cLCIXNPg2ruTrENz4Vt</td>\n",
       "      <td>https://api.spotify.com/v1/tracks/082cLCIXNPg2...</td>\n",
       "      <td>https://api.spotify.com/v1/audio-analysis/082c...</td>\n",
       "      <td>382297</td>\n",
       "      <td>4</td>\n",
       "    </tr>\n",
       "    <tr>\n",
       "      <th>4</th>\n",
       "      <td>Bob Dylan</td>\n",
       "      <td>Knockin' On Heaven's Door</td>\n",
       "      <td>0.513</td>\n",
       "      <td>0.396</td>\n",
       "      <td>7</td>\n",
       "      <td>-13.061</td>\n",
       "      <td>1</td>\n",
       "      <td>0.0299</td>\n",
       "      <td>0.251</td>\n",
       "      <td>0.1770</td>\n",
       "      <td>0.1100</td>\n",
       "      <td>0.229</td>\n",
       "      <td>140.208</td>\n",
       "      <td>audio_features</td>\n",
       "      <td>6HSXNV0b4M4cLJ7ljgVVeh</td>\n",
       "      <td>spotify:track:6HSXNV0b4M4cLJ7ljgVVeh</td>\n",
       "      <td>https://api.spotify.com/v1/tracks/6HSXNV0b4M4c...</td>\n",
       "      <td>https://api.spotify.com/v1/audio-analysis/6HSX...</td>\n",
       "      <td>149880</td>\n",
       "      <td>4</td>\n",
       "    </tr>\n",
       "  </tbody>\n",
       "</table>\n",
       "</div>"
      ],
      "text/plain": [
       "         artist                                        song  danceability  \\\n",
       "0   John Lennon                   Imagine - Remastered 2010         0.547   \n",
       "1  Procol Harum                      A Whiter Shade Of Pale         0.249   \n",
       "2         Queen         Bohemian Rhapsody - Remastered 2011         0.414   \n",
       "3    Pink Floyd  Comfortably Numb - 2011 Remastered Version         0.472   \n",
       "4     Bob Dylan                   Knockin' On Heaven's Door         0.513   \n",
       "\n",
       "   energy  key  loudness  mode  speechiness  acousticness  instrumentalness  \\\n",
       "0   0.257    0   -12.358     1       0.0252         0.907            0.1830   \n",
       "1   0.660    0    -6.905     1       0.0342         0.504            0.0026   \n",
       "2   0.404    0    -9.928     0       0.0499         0.271            0.0000   \n",
       "3   0.366   11   -12.595     0       0.0286         0.150            0.3080   \n",
       "4   0.396    7   -13.061     1       0.0299         0.251            0.1770   \n",
       "\n",
       "   liveness  valence    tempo            type                      id  \\\n",
       "0    0.0935    0.169   75.752  audio_features  7pKfPomDEeI4TPT6EOYjn9   \n",
       "1    0.0891    0.435  149.813  audio_features  3qitymULqEibr7yknRMKU4   \n",
       "2    0.3000    0.224   71.105  audio_features  1AhDOtG9vPSOmsWgNW0BEY   \n",
       "3    0.0837    0.171  127.167  audio_features  082cLCIXNPg2ruTrENz4Vt   \n",
       "4    0.1100    0.229  140.208  audio_features  6HSXNV0b4M4cLJ7ljgVVeh   \n",
       "\n",
       "                                    uri  \\\n",
       "0  spotify:track:7pKfPomDEeI4TPT6EOYjn9   \n",
       "1  spotify:track:3qitymULqEibr7yknRMKU4   \n",
       "2  spotify:track:1AhDOtG9vPSOmsWgNW0BEY   \n",
       "3  spotify:track:082cLCIXNPg2ruTrENz4Vt   \n",
       "4  spotify:track:6HSXNV0b4M4cLJ7ljgVVeh   \n",
       "\n",
       "                                          track_href  \\\n",
       "0  https://api.spotify.com/v1/tracks/7pKfPomDEeI4...   \n",
       "1  https://api.spotify.com/v1/tracks/3qitymULqEib...   \n",
       "2  https://api.spotify.com/v1/tracks/1AhDOtG9vPSO...   \n",
       "3  https://api.spotify.com/v1/tracks/082cLCIXNPg2...   \n",
       "4  https://api.spotify.com/v1/tracks/6HSXNV0b4M4c...   \n",
       "\n",
       "                                        analysis_url  duration_ms  \\\n",
       "0  https://api.spotify.com/v1/audio-analysis/7pKf...       187867   \n",
       "1  https://api.spotify.com/v1/audio-analysis/3qit...       248947   \n",
       "2  https://api.spotify.com/v1/audio-analysis/1AhD...       354320   \n",
       "3  https://api.spotify.com/v1/audio-analysis/082c...       382297   \n",
       "4  https://api.spotify.com/v1/audio-analysis/6HSX...       149880   \n",
       "\n",
       "   time_signature  \n",
       "0               4  \n",
       "1               4  \n",
       "2               4  \n",
       "3               4  \n",
       "4               4  "
      ]
     },
     "metadata": {},
     "output_type": "display_data"
    },
    {
     "data": {
      "text/plain": [
       "(18646, 20)"
      ]
     },
     "metadata": {},
     "output_type": "display_data"
    }
   ],
   "source": [
    "display(spotify_df.head())\n",
    "display(spotify_df.shape)"
   ]
  },
  {
   "cell_type": "code",
   "execution_count": 144,
   "id": "37d4a292",
   "metadata": {},
   "outputs": [
    {
     "data": {
      "text/plain": [
       "(16198, 20)"
      ]
     },
     "metadata": {},
     "output_type": "display_data"
    }
   ],
   "source": [
    "spotify_df.drop_duplicates(subset=['artist','song'],inplace=True)\n",
    "\n",
    "display(spotify_df.shape) #Unique songs!!!"
   ]
  },
  {
   "cell_type": "code",
   "execution_count": 145,
   "id": "1b0ba050",
   "metadata": {},
   "outputs": [],
   "source": [
    "spotify_df.to_csv('spotify_df.csv')"
   ]
  },
  {
   "cell_type": "code",
   "execution_count": null,
   "id": "1524517c",
   "metadata": {},
   "outputs": [],
   "source": []
  }
 ],
 "metadata": {
  "kernelspec": {
   "display_name": "Python 3 (ipykernel)",
   "language": "python",
   "name": "python3"
  },
  "language_info": {
   "codemirror_mode": {
    "name": "ipython",
    "version": 3
   },
   "file_extension": ".py",
   "mimetype": "text/x-python",
   "name": "python",
   "nbconvert_exporter": "python",
   "pygments_lexer": "ipython3",
   "version": "3.9.12"
  },
  "toc": {
   "base_numbering": 1,
   "nav_menu": {},
   "number_sections": true,
   "sideBar": true,
   "skip_h1_title": false,
   "title_cell": "Table of Contents",
   "title_sidebar": "Contents",
   "toc_cell": false,
   "toc_position": {
    "height": "calc(100% - 180px)",
    "left": "10px",
    "top": "150px",
    "width": "273.188px"
   },
   "toc_section_display": true,
   "toc_window_display": true
  }
 },
 "nbformat": 4,
 "nbformat_minor": 5
}
